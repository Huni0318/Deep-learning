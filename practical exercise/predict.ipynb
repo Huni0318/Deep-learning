{
 "cells": [
  {
   "cell_type": "markdown",
   "metadata": {},
   "source": [
    "# TensorFlow 2.0"
   ]
  },
  {
   "cell_type": "code",
   "execution_count": 1,
   "metadata": {},
   "outputs": [],
   "source": [
    "import os\n",
    "from glob import glob\n",
    "from datetime import datetime\n",
    "\n",
    "import numpy as np\n",
    "\n",
    "import tensorflow as tf\n",
    "from tensorflow.keras import layers\n",
    "\n",
    "from tensorflow.keras import datasets \n",
    "\n",
    "import matplotlib.pyplot as plt\n",
    "\n",
    "%matplotlib inline"
   ]
  },
  {
   "cell_type": "markdown",
   "metadata": {},
   "source": [
    "## Hyperparameter Tunning"
   ]
  },
  {
   "cell_type": "code",
   "execution_count": 2,
   "metadata": {},
   "outputs": [],
   "source": [
    "num_epochs = 50\n",
    "batch_size = 32\n",
    "\n",
    "learning_rate = 0.001\n",
    "\n",
    "dropout_rate = 0.5\n",
    "\n",
    "input_shape = (32, 32, 3)\n",
    "num_classes = 10"
   ]
  },
  {
   "cell_type": "markdown",
   "metadata": {},
   "source": [
    "## Build Model"
   ]
  },
  {
   "cell_type": "code",
   "execution_count": 3,
   "metadata": {},
   "outputs": [],
   "source": [
    "inputs = layers.Input(input_shape)\n",
    "\n",
    "net = layers.Conv2D(32, (3, 3), padding='SAME')(inputs)\n",
    "net = layers.Activation('relu')(net)\n",
    "net = layers.Conv2D(32, (3, 3), padding='SAME')(net)\n",
    "net = layers.Activation('relu')(net)\n",
    "net = layers.MaxPooling2D(pool_size=(2, 2))(net)\n",
    "net = layers.Dropout(dropout_rate)(net)\n",
    "\n",
    "net = layers.Conv2D(64, (3, 3), padding='SAME')(net)\n",
    "net = layers.Activation('relu')(net)\n",
    "net = layers.Conv2D(64, (3, 3), padding='SAME')(net)\n",
    "net = layers.Activation('relu')(net)\n",
    "net = layers.MaxPooling2D(pool_size=(2, 2))(net)\n",
    "net = layers.Dropout(dropout_rate)(net)\n",
    "\n",
    "net = layers.Flatten()(net)\n",
    "net = layers.Dense(512)(net)\n",
    "net = layers.Activation('relu')(net)\n",
    "net = layers.Dropout(dropout_rate)(net)\n",
    "net = layers.Dense(num_classes)(net)\n",
    "net = layers.Activation('softmax')(net)\n",
    "\n",
    "model = tf.keras.Model(inputs=inputs, outputs=net, name='Basic_CNN')"
   ]
  },
  {
   "cell_type": "code",
   "execution_count": 4,
   "metadata": {},
   "outputs": [],
   "source": [
    "# Model is the full model w/o custom layers\n",
    "model.compile(optimizer=tf.keras.optimizers.Adam(learning_rate),  # Optimization\n",
    "              loss='sparse_categorical_crossentropy',  # Loss Function \n",
    "              metrics=['accuracy'])  # Metrics / Accuracy"
   ]
  },
  {
   "cell_type": "markdown",
   "metadata": {},
   "source": [
    "# Data Preprocess"
   ]
  },
  {
   "cell_type": "code",
   "execution_count": 9,
   "metadata": {},
   "outputs": [],
   "source": [
    "train_paths = glob('C:/Users/신상훈/Desktop/새 폴더/dataset/cifar/train/*.png')[:100]\n",
    "test_paths = glob('C:/Users/신상훈/Desktop/새 폴더/dataset/cifar/test/*.png')[:100]"
   ]
  },
  {
   "cell_type": "code",
   "execution_count": 10,
   "metadata": {},
   "outputs": [],
   "source": [
    "def get_class_name(path):\n",
    "    return path.split('_')[-1].replace('.png', '')"
   ]
  },
  {
   "cell_type": "code",
   "execution_count": 11,
   "metadata": {},
   "outputs": [],
   "source": [
    "train_labels = [get_class_name(path) for path in train_paths]\n",
    "class_names = np.unique(train_labels)"
   ]
  },
  {
   "cell_type": "code",
   "execution_count": 12,
   "metadata": {},
   "outputs": [],
   "source": [
    "def get_label(path):\n",
    "    fname = tf.strings.split(path, '_')[-1]\n",
    "    lbl_name = tf.strings.regex_replace(fname, '.png', '')\n",
    "    onehot = tf.cast(lbl_name == class_names, tf.uint8)\n",
    "    return tf.argmax(onehot)  # 이번에는 onehot이 아닌 label 번호로"
   ]
  },
  {
   "cell_type": "code",
   "execution_count": 13,
   "metadata": {},
   "outputs": [],
   "source": [
    "def load_image_label(path):\n",
    "    gfile = tf.io.read_file(path)\n",
    "    image = tf.io.decode_image(gfile)\n",
    "    image = tf.cast(image, tf.float32) / 255.  # rescale\n",
    "    \n",
    "    label = get_label(path)\n",
    "    return image, label"
   ]
  },
  {
   "cell_type": "code",
   "execution_count": 14,
   "metadata": {},
   "outputs": [],
   "source": [
    "def image_preprocess(image, label):\n",
    "    image = tf.image.random_flip_up_down(image)\n",
    "    image = tf.image.random_flip_left_right(image)\n",
    "    return image, label"
   ]
  },
  {
   "cell_type": "code",
   "execution_count": 15,
   "metadata": {},
   "outputs": [],
   "source": [
    "AUTOTUNE = tf.data.experimental.AUTOTUNE"
   ]
  },
  {
   "cell_type": "code",
   "execution_count": 16,
   "metadata": {
    "scrolled": false
   },
   "outputs": [],
   "source": [
    "train_dataset = tf.data.Dataset.from_tensor_slices(train_paths)\n",
    "train_dataset = train_dataset.map(load_image_label, num_parallel_calls=AUTOTUNE)\n",
    "train_dataset = train_dataset.map(image_preprocess, num_parallel_calls=AUTOTUNE)\n",
    "train_dataset = train_dataset.batch(batch_size)\n",
    "train_dataset = train_dataset.shuffle(buffer_size=len(train_paths))\n",
    "train_dataset = train_dataset.repeat()"
   ]
  },
  {
   "cell_type": "code",
   "execution_count": 17,
   "metadata": {},
   "outputs": [],
   "source": [
    "test_dataset = tf.data.Dataset.from_tensor_slices(test_paths)\n",
    "test_dataset = test_dataset.map(load_image_label, num_parallel_calls=AUTOTUNE)\n",
    "test_dataset = test_dataset.batch(batch_size)\n",
    "test_dataset = test_dataset.repeat()"
   ]
  },
  {
   "cell_type": "markdown",
   "metadata": {},
   "source": [
    "## Training"
   ]
  },
  {
   "cell_type": "code",
   "execution_count": 18,
   "metadata": {
    "scrolled": true
   },
   "outputs": [
    {
     "name": "stderr",
     "output_type": "stream",
     "text": [
      "C:\\ProgramData\\Anaconda3\\lib\\site-packages\\tensorflow\\python\\keras\\engine\\training.py:1844: UserWarning: `Model.fit_generator` is deprecated and will be removed in a future version. Please use `Model.fit`, which supports generators.\n",
      "  warnings.warn('`Model.fit_generator` is deprecated and '\n"
     ]
    },
    {
     "name": "stdout",
     "output_type": "stream",
     "text": [
      "Epoch 1/50\n",
      "3/3 [==============================] - 2s 491ms/step - loss: 2.3153 - accuracy: 0.0528 - val_loss: 2.3298 - val_accuracy: 0.0729\n",
      "Epoch 2/50\n",
      "3/3 [==============================] - 0s 94ms/step - loss: 2.3496 - accuracy: 0.0442 - val_loss: 2.3204 - val_accuracy: 0.0729\n",
      "Epoch 3/50\n",
      "3/3 [==============================] - 0s 113ms/step - loss: 2.3116 - accuracy: 0.0664 - val_loss: 2.3120 - val_accuracy: 0.0729\n",
      "Epoch 4/50\n",
      "3/3 [==============================] - 0s 89ms/step - loss: 2.3092 - accuracy: 0.0715 - val_loss: 2.3093 - val_accuracy: 0.1667\n",
      "Epoch 5/50\n",
      "3/3 [==============================] - 0s 88ms/step - loss: 2.2971 - accuracy: 0.0983 - val_loss: 2.3258 - val_accuracy: 0.1042\n",
      "Epoch 6/50\n",
      "3/3 [==============================] - 0s 104ms/step - loss: 2.2907 - accuracy: 0.0871 - val_loss: 2.3667 - val_accuracy: 0.0729\n",
      "Epoch 7/50\n",
      "3/3 [==============================] - 0s 123ms/step - loss: 2.3760 - accuracy: 0.0221 - val_loss: 2.3567 - val_accuracy: 0.0833\n",
      "Epoch 8/50\n",
      "3/3 [==============================] - 0s 114ms/step - loss: 2.1867 - accuracy: 0.2042 - val_loss: 2.3458 - val_accuracy: 0.0625\n",
      "Epoch 9/50\n",
      "3/3 [==============================] - 0s 112ms/step - loss: 2.1350 - accuracy: 0.2810 - val_loss: 2.3523 - val_accuracy: 0.0521\n",
      "Epoch 10/50\n",
      "3/3 [==============================] - 0s 103ms/step - loss: 2.3543 - accuracy: 0.0832 - val_loss: 2.3402 - val_accuracy: 0.0521\n",
      "Epoch 11/50\n",
      "3/3 [==============================] - 0s 122ms/step - loss: 2.3443 - accuracy: 0.0586 - val_loss: 2.3334 - val_accuracy: 0.0417\n",
      "Epoch 12/50\n",
      "3/3 [==============================] - 0s 121ms/step - loss: 2.1597 - accuracy: 0.3435 - val_loss: 2.3500 - val_accuracy: 0.0729\n",
      "Epoch 13/50\n",
      "3/3 [==============================] - 0s 91ms/step - loss: 2.3052 - accuracy: 0.0793 - val_loss: 2.3514 - val_accuracy: 0.0729\n",
      "Epoch 14/50\n",
      "3/3 [==============================] - 0s 100ms/step - loss: 2.3499 - accuracy: 0.0715 - val_loss: 2.3730 - val_accuracy: 0.0729\n",
      "Epoch 15/50\n",
      "3/3 [==============================] - 0s 134ms/step - loss: 2.3615 - accuracy: 0.0573 - val_loss: 2.3742 - val_accuracy: 0.0729\n",
      "Epoch 16/50\n",
      "3/3 [==============================] - 0s 89ms/step - loss: 2.3197 - accuracy: 0.0568 - val_loss: 2.3406 - val_accuracy: 0.0625\n",
      "Epoch 17/50\n",
      "3/3 [==============================] - 0s 87ms/step - loss: 2.2975 - accuracy: 0.1165 - val_loss: 2.3530 - val_accuracy: 0.0729\n",
      "Epoch 18/50\n",
      "3/3 [==============================] - 0s 93ms/step - loss: 2.3059 - accuracy: 0.0827 - val_loss: 2.3857 - val_accuracy: 0.0625\n",
      "Epoch 19/50\n",
      "3/3 [==============================] - 0s 96ms/step - loss: 2.3293 - accuracy: 0.0974 - val_loss: 2.4572 - val_accuracy: 0.0729\n",
      "Epoch 20/50\n",
      "3/3 [==============================] - 0s 130ms/step - loss: 2.3970 - accuracy: 0.0508 - val_loss: 2.3959 - val_accuracy: 0.1042\n",
      "Epoch 21/50\n",
      "3/3 [==============================] - 0s 108ms/step - loss: 2.2869 - accuracy: 0.1120 - val_loss: 2.3249 - val_accuracy: 0.1667\n",
      "Epoch 22/50\n",
      "3/3 [==============================] - 0s 124ms/step - loss: 2.2051 - accuracy: 0.1630 - val_loss: 2.3141 - val_accuracy: 0.1458\n",
      "Epoch 23/50\n",
      "3/3 [==============================] - 0s 101ms/step - loss: 2.1967 - accuracy: 0.2275 - val_loss: 2.3169 - val_accuracy: 0.1562\n",
      "Epoch 24/50\n",
      "3/3 [==============================] - 0s 116ms/step - loss: 2.1303 - accuracy: 0.2949 - val_loss: 2.3818 - val_accuracy: 0.0938\n",
      "Epoch 25/50\n",
      "3/3 [==============================] - 0s 85ms/step - loss: 2.2646 - accuracy: 0.1456 - val_loss: 2.4034 - val_accuracy: 0.0938\n",
      "Epoch 26/50\n",
      "3/3 [==============================] - 0s 125ms/step - loss: 2.3310 - accuracy: 0.1562 - val_loss: 2.3488 - val_accuracy: 0.1562\n",
      "Epoch 27/50\n",
      "3/3 [==============================] - 0s 126ms/step - loss: 1.9681 - accuracy: 0.3542 - val_loss: 2.3399 - val_accuracy: 0.1979\n",
      "Epoch 28/50\n",
      "3/3 [==============================] - 0s 90ms/step - loss: 2.2153 - accuracy: 0.2050 - val_loss: 2.3532 - val_accuracy: 0.1875\n",
      "Epoch 29/50\n",
      "3/3 [==============================] - 0s 91ms/step - loss: 2.2573 - accuracy: 0.1455 - val_loss: 2.3532 - val_accuracy: 0.1771\n",
      "Epoch 30/50\n",
      "3/3 [==============================] - 0s 122ms/step - loss: 2.1621 - accuracy: 0.2331 - val_loss: 2.2873 - val_accuracy: 0.1979\n",
      "Epoch 31/50\n",
      "3/3 [==============================] - 0s 131ms/step - loss: 1.8601 - accuracy: 0.3051 - val_loss: 2.4117 - val_accuracy: 0.1771\n",
      "Epoch 32/50\n",
      "3/3 [==============================] - 0s 108ms/step - loss: 1.7689 - accuracy: 0.4232 - val_loss: 2.2501 - val_accuracy: 0.2083\n",
      "Epoch 33/50\n",
      "3/3 [==============================] - 0s 82ms/step - loss: 1.9718 - accuracy: 0.2916 - val_loss: 2.2511 - val_accuracy: 0.2292\n",
      "Epoch 34/50\n",
      "3/3 [==============================] - 0s 102ms/step - loss: 2.0693 - accuracy: 0.2036 - val_loss: 2.6864 - val_accuracy: 0.1042\n",
      "Epoch 35/50\n",
      "3/3 [==============================] - 0s 128ms/step - loss: 2.5266 - accuracy: 0.1667 - val_loss: 2.3830 - val_accuracy: 0.1562\n",
      "Epoch 36/50\n",
      "3/3 [==============================] - 0s 111ms/step - loss: 1.6853 - accuracy: 0.4240 - val_loss: 2.3639 - val_accuracy: 0.1146\n",
      "Epoch 37/50\n",
      "3/3 [==============================] - 0s 89ms/step - loss: 2.1411 - accuracy: 0.1429 - val_loss: 2.2605 - val_accuracy: 0.1875\n",
      "Epoch 38/50\n",
      "3/3 [==============================] - 0s 121ms/step - loss: 2.0182 - accuracy: 0.2760 - val_loss: 2.2726 - val_accuracy: 0.2083\n",
      "Epoch 39/50\n",
      "3/3 [==============================] - 0s 99ms/step - loss: 1.9639 - accuracy: 0.2488 - val_loss: 2.3104 - val_accuracy: 0.2396\n",
      "Epoch 40/50\n",
      "3/3 [==============================] - 0s 90ms/step - loss: 1.9130 - accuracy: 0.3440 - val_loss: 2.3311 - val_accuracy: 0.2188\n",
      "Epoch 41/50\n",
      "3/3 [==============================] - 0s 100ms/step - loss: 1.9610 - accuracy: 0.2608 - val_loss: 2.4340 - val_accuracy: 0.2292\n",
      "Epoch 42/50\n",
      "3/3 [==============================] - 0s 126ms/step - loss: 2.1694 - accuracy: 0.2344 - val_loss: 2.4253 - val_accuracy: 0.1875\n",
      "Epoch 43/50\n",
      "3/3 [==============================] - 0s 123ms/step - loss: 1.3761 - accuracy: 0.4882 - val_loss: 2.3725 - val_accuracy: 0.1667\n",
      "Epoch 44/50\n",
      "3/3 [==============================] - 0s 84ms/step - loss: 2.2102 - accuracy: 0.2192 - val_loss: 2.3573 - val_accuracy: 0.1458\n",
      "Epoch 45/50\n",
      "3/3 [==============================] - 0s 103ms/step - loss: 1.4329 - accuracy: 0.5592 - val_loss: 2.4160 - val_accuracy: 0.2292\n",
      "Epoch 46/50\n",
      "3/3 [==============================] - 0s 122ms/step - loss: 2.0417 - accuracy: 0.2865 - val_loss: 2.3577 - val_accuracy: 0.2500\n",
      "Epoch 47/50\n",
      "3/3 [==============================] - 0s 103ms/step - loss: 1.9654 - accuracy: 0.3076 - val_loss: 2.2893 - val_accuracy: 0.2604\n",
      "Epoch 48/50\n",
      "3/3 [==============================] - 0s 117ms/step - loss: 1.6049 - accuracy: 0.4109 - val_loss: 2.3447 - val_accuracy: 0.2396\n",
      "Epoch 49/50\n",
      "3/3 [==============================] - 0s 97ms/step - loss: 1.8254 - accuracy: 0.2721 - val_loss: 2.3183 - val_accuracy: 0.2604\n",
      "Epoch 50/50\n",
      "3/3 [==============================] - 0s 119ms/step - loss: 1.8642 - accuracy: 0.3438 - val_loss: 2.3550 - val_accuracy: 0.2188\n"
     ]
    }
   ],
   "source": [
    "steps_per_epoch = len(train_paths) // batch_size\n",
    "validation_steps = len(test_paths) // batch_size\n",
    "\n",
    "history = model.fit_generator(\n",
    "    train_dataset,\n",
    "    steps_per_epoch=steps_per_epoch,\n",
    "    validation_data=test_dataset,\n",
    "    validation_steps=validation_steps,\n",
    "    epochs=num_epochs\n",
    ")"
   ]
  },
  {
   "cell_type": "markdown",
   "metadata": {},
   "source": [
    "# Predict"
   ]
  },
  {
   "cell_type": "markdown",
   "metadata": {},
   "source": [
    "### 이미지를 Load 직접 load해서 넣는 방법"
   ]
  },
  {
   "cell_type": "code",
   "execution_count": 19,
   "metadata": {},
   "outputs": [
    {
     "data": {
      "text/plain": [
       "'C:/Users/신상훈/Desktop/새 폴더/dataset/cifar/test\\\\0_cat.png'"
      ]
     },
     "execution_count": 19,
     "metadata": {},
     "output_type": "execute_result"
    }
   ],
   "source": [
    "path = test_paths[0]\n",
    "path"
   ]
  },
  {
   "cell_type": "code",
   "execution_count": 20,
   "metadata": {},
   "outputs": [
    {
     "data": {
      "text/plain": [
       "TensorShape([32, 32, 3])"
      ]
     },
     "execution_count": 20,
     "metadata": {},
     "output_type": "execute_result"
    }
   ],
   "source": [
    "gfile = tf.io.read_file(path)\n",
    "image = tf.io.decode_image(gfile, dtype= tf.float32)\n",
    "image.shape"
   ]
  },
  {
   "cell_type": "code",
   "execution_count": 21,
   "metadata": {},
   "outputs": [],
   "source": [
    "image = image[tf.newaxis,...]"
   ]
  },
  {
   "cell_type": "code",
   "execution_count": 22,
   "metadata": {},
   "outputs": [
    {
     "data": {
      "text/plain": [
       "TensorShape([1, 32, 32, 3])"
      ]
     },
     "execution_count": 22,
     "metadata": {},
     "output_type": "execute_result"
    }
   ],
   "source": [
    "image.shape"
   ]
  },
  {
   "cell_type": "code",
   "execution_count": 23,
   "metadata": {},
   "outputs": [],
   "source": [
    "pred = model.predict(image)"
   ]
  },
  {
   "cell_type": "code",
   "execution_count": 24,
   "metadata": {},
   "outputs": [
    {
     "data": {
      "text/plain": [
       "(1, 10)"
      ]
     },
     "execution_count": 24,
     "metadata": {},
     "output_type": "execute_result"
    }
   ],
   "source": [
    "pred.shape"
   ]
  },
  {
   "cell_type": "code",
   "execution_count": 25,
   "metadata": {},
   "outputs": [
    {
     "data": {
      "text/plain": [
       "array([[0.03560392, 0.11464757, 0.01880144, 0.10517231, 0.14810559,\n",
       "        0.04463694, 0.10644897, 0.16490127, 0.16486333, 0.09681855]],\n",
       "      dtype=float32)"
      ]
     },
     "execution_count": 25,
     "metadata": {},
     "output_type": "execute_result"
    }
   ],
   "source": [
    "pred"
   ]
  },
  {
   "cell_type": "code",
   "execution_count": 26,
   "metadata": {},
   "outputs": [
    {
     "data": {
      "text/plain": [
       "7"
      ]
     },
     "execution_count": 26,
     "metadata": {},
     "output_type": "execute_result"
    }
   ],
   "source": [
    "np.argmax(pred)"
   ]
  },
  {
   "cell_type": "markdown",
   "metadata": {},
   "source": [
    "### generator에서 데이터를 가져오는 방법"
   ]
  },
  {
   "cell_type": "code",
   "execution_count": 27,
   "metadata": {},
   "outputs": [],
   "source": [
    "test_image, test_label = next(iter(test_dataset))"
   ]
  },
  {
   "cell_type": "code",
   "execution_count": 28,
   "metadata": {},
   "outputs": [
    {
     "data": {
      "text/plain": [
       "TensorShape([32, 32, 32, 3])"
      ]
     },
     "execution_count": 28,
     "metadata": {},
     "output_type": "execute_result"
    }
   ],
   "source": [
    "test_image.shape"
   ]
  },
  {
   "cell_type": "code",
   "execution_count": 29,
   "metadata": {},
   "outputs": [],
   "source": [
    "pred = model.predict(test_image)"
   ]
  },
  {
   "cell_type": "code",
   "execution_count": 30,
   "metadata": {},
   "outputs": [
    {
     "data": {
      "text/plain": [
       "(32, 10)"
      ]
     },
     "execution_count": 30,
     "metadata": {},
     "output_type": "execute_result"
    }
   ],
   "source": [
    "pred.shape"
   ]
  },
  {
   "cell_type": "code",
   "execution_count": 31,
   "metadata": {},
   "outputs": [
    {
     "data": {
      "text/plain": [
       "array([0.03560393, 0.1146476 , 0.01880144, 0.1051723 , 0.14810562,\n",
       "       0.04463694, 0.10644899, 0.1649013 , 0.16486335, 0.09681857],\n",
       "      dtype=float32)"
      ]
     },
     "execution_count": 31,
     "metadata": {},
     "output_type": "execute_result"
    }
   ],
   "source": [
    "pred[0]"
   ]
  },
  {
   "cell_type": "code",
   "execution_count": 32,
   "metadata": {},
   "outputs": [
    {
     "data": {
      "text/plain": [
       "7"
      ]
     },
     "execution_count": 32,
     "metadata": {},
     "output_type": "execute_result"
    }
   ],
   "source": [
    "np.argmax(pred[0])"
   ]
  },
  {
   "cell_type": "markdown",
   "metadata": {},
   "source": [
    "### genetator에 넣는 방법"
   ]
  },
  {
   "cell_type": "code",
   "execution_count": 35,
   "metadata": {},
   "outputs": [
    {
     "data": {
      "image/png": "[encoded data removed]",
      "text/plain": [
       "<Figure size 432x288 with 1 Axes>"
      ]
     },
     "metadata": {
      "needs_background": "light"
     },
     "output_type": "display_data"
    },
    {
     "data": {
      "image/png": "[encoded data removed]",
      "text/plain": [
       "<Figure size 432x288 with 1 Axes>"
      ]
     },
     "metadata": {
      "needs_background": "light"
     },
     "output_type": "display_data"
    }
   ],
   "source": [
    "for image, label in test_dataset.take(2):\n",
    "    plt.imshow(image[0])\n",
    "    plt.show()"
   ]
  },
  {
   "cell_type": "code",
   "execution_count": 36,
   "metadata": {},
   "outputs": [],
   "source": [
    "pred = model.predict_generator(test_dataset.take(2))"
   ]
  },
  {
   "cell_type": "code",
   "execution_count": 37,
   "metadata": {},
   "outputs": [
    {
     "data": {
      "text/plain": [
       "(64, 10)"
      ]
     },
     "execution_count": 37,
     "metadata": {},
     "output_type": "execute_result"
    }
   ],
   "source": [
    "pred.shape"
   ]
  },
  {
   "cell_type": "code",
   "execution_count": 39,
   "metadata": {},
   "outputs": [],
   "source": [
    "image, label = next(iter(test_dataset))"
   ]
  },
  {
   "cell_type": "code",
   "execution_count": 40,
   "metadata": {},
   "outputs": [
    {
     "data": {
      "text/plain": [
       "TensorShape([32, 32, 32, 3])"
      ]
     },
     "execution_count": 40,
     "metadata": {},
     "output_type": "execute_result"
    }
   ],
   "source": [
    "image.shape"
   ]
  },
  {
   "cell_type": "code",
   "execution_count": 41,
   "metadata": {
    "scrolled": true
   },
   "outputs": [
    {
     "name": "stdout",
     "output_type": "stream",
     "text": [
      "1/1 [==============================] - 0s 27ms/step - loss: 2.5633 - accuracy: 0.2188\n"
     ]
    }
   ],
   "source": [
    "evals = model.evaluate(image, label)"
   ]
  },
  {
   "cell_type": "code",
   "execution_count": 42,
   "metadata": {
    "scrolled": true
   },
   "outputs": [
    {
     "data": {
      "text/plain": [
       "[2.563284397125244, 0.21875]"
      ]
     },
     "execution_count": 42,
     "metadata": {},
     "output_type": "execute_result"
    }
   ],
   "source": [
    "evals"
   ]
  },
  {
   "cell_type": "markdown",
   "metadata": {},
   "source": [
    "# Saving Model"
   ]
  },
  {
   "cell_type": "code",
   "execution_count": 43,
   "metadata": {},
   "outputs": [],
   "source": [
    "save_path = 'my_model.h5'"
   ]
  },
  {
   "cell_type": "code",
   "execution_count": 45,
   "metadata": {},
   "outputs": [],
   "source": [
    "model.save(save_path,include_optimizer = True)"
   ]
  },
  {
   "cell_type": "code",
   "execution_count": 46,
   "metadata": {},
   "outputs": [],
   "source": [
    "model = tf.keras.models.load_model('my_model.h5')"
   ]
  },
  {
   "cell_type": "markdown",
   "metadata": {},
   "source": [
    "# Save Model -2"
   ]
  },
  {
   "cell_type": "code",
   "execution_count": 47,
   "metadata": {},
   "outputs": [],
   "source": [
    "model.save_weights('model_weights.h5')"
   ]
  },
  {
   "cell_type": "code",
   "execution_count": 50,
   "metadata": {},
   "outputs": [],
   "source": [
    "from tensorflow.keras.models import model_from_json"
   ]
  },
  {
   "cell_type": "code",
   "execution_count": 53,
   "metadata": {},
   "outputs": [],
   "source": [
    "with open('model_architecture.json','w') as f:\n",
    "    f.write(model.to_json())"
   ]
  },
  {
   "cell_type": "code",
   "execution_count": 54,
   "metadata": {},
   "outputs": [],
   "source": [
    "with open('model_architecture.json','r') as f:\n",
    "    model = model_from_json(f.read())"
   ]
  },
  {
   "cell_type": "code",
   "execution_count": 55,
   "metadata": {},
   "outputs": [],
   "source": [
    "model.load_weights('model_weights.h5')"
   ]
  },
  {
   "cell_type": "markdown",
   "metadata": {},
   "source": [
    "# H5 모델 들여다보기"
   ]
  },
  {
   "cell_type": "code",
   "execution_count": 56,
   "metadata": {},
   "outputs": [],
   "source": [
    "import h5py"
   ]
  },
  {
   "cell_type": "code",
   "execution_count": 57,
   "metadata": {},
   "outputs": [],
   "source": [
    "model_file = h5py.File('my_model.h5','r+')"
   ]
  },
  {
   "cell_type": "code",
   "execution_count": 58,
   "metadata": {},
   "outputs": [
    {
     "data": {
      "text/plain": [
       "<KeysViewHDF5 ['model_weights', 'optimizer_weights']>"
      ]
     },
     "execution_count": 58,
     "metadata": {},
     "output_type": "execute_result"
    }
   ],
   "source": [
    "model_file.keys()"
   ]
  },
  {
   "cell_type": "code",
   "execution_count": 59,
   "metadata": {},
   "outputs": [
    {
     "data": {
      "text/plain": [
       "<KeysViewHDF5 ['activation', 'activation_1', 'activation_2', 'activation_3', 'activation_4', 'activation_5', 'conv2d', 'conv2d_1', 'conv2d_2', 'conv2d_3', 'dense', 'dense_1', 'dropout', 'dropout_1', 'dropout_2', 'flatten', 'input_1', 'max_pooling2d', 'max_pooling2d_1']>"
      ]
     },
     "execution_count": 59,
     "metadata": {},
     "output_type": "execute_result"
    }
   ],
   "source": [
    "model_file['model_weights'].keys()"
   ]
  },
  {
   "cell_type": "code",
   "execution_count": 61,
   "metadata": {},
   "outputs": [
    {
     "data": {
      "text/plain": [
       "<KeysViewHDF5 ['bias:0', 'kernel:0']>"
      ]
     },
     "execution_count": 61,
     "metadata": {},
     "output_type": "execute_result"
    }
   ],
   "source": [
    "model_file['model_weights']['conv2d']['conv2d'].keys()"
   ]
  },
  {
   "cell_type": "code",
   "execution_count": 62,
   "metadata": {},
   "outputs": [
    {
     "data": {
      "text/plain": [
       "<HDF5 dataset \"kernel:0\": shape (3, 3, 3, 32), type \"<f4\">"
      ]
     },
     "execution_count": 62,
     "metadata": {},
     "output_type": "execute_result"
    }
   ],
   "source": [
    "model_file['model_weights']['conv2d']['conv2d']['kernel:0']"
   ]
  },
  {
   "cell_type": "code",
   "execution_count": 63,
   "metadata": {},
   "outputs": [],
   "source": [
    "weight = np.array(model_file['model_weights']['conv2d']['conv2d']['kernel:0'])"
   ]
  },
  {
   "cell_type": "code",
   "execution_count": 64,
   "metadata": {},
   "outputs": [
    {
     "data": {
      "text/plain": [
       "array([[[[ 3.94511707e-02, -1.12727657e-01, -3.11477389e-02,\n",
       "          -7.26224994e-03,  9.02975798e-02, -2.68134438e-02,\n",
       "           6.86336458e-02,  1.33804873e-01, -6.45649508e-02,\n",
       "           1.17462941e-01,  5.05961552e-02,  9.35003385e-02,\n",
       "           4.29112203e-02,  1.36047110e-01,  6.19918481e-03,\n",
       "           1.03624955e-01, -8.51304829e-02, -4.71040495e-02,\n",
       "           6.70871586e-02,  4.01722975e-02,  1.16170347e-01,\n",
       "           9.70729738e-02, -1.27999663e-01,  1.15787983e-01,\n",
       "          -1.11234985e-01, -2.87076961e-02, -8.40476826e-02,\n",
       "           8.57480094e-02,  9.46685225e-02,  1.10041410e-01,\n",
       "           8.32153708e-02, -9.01275575e-02],\n",
       "         [-3.32142673e-02, -3.64122018e-02,  4.45424998e-03,\n",
       "           4.56789061e-02, -1.31622717e-01,  2.55606826e-02,\n",
       "          -3.47232744e-02, -4.29090708e-02, -1.77600514e-02,\n",
       "          -2.01471709e-02, -5.23959696e-02, -1.18786357e-01,\n",
       "           8.57889950e-02, -1.00889809e-01, -3.04975156e-02,\n",
       "           5.20004965e-02,  7.27961585e-02,  7.08156079e-02,\n",
       "          -3.25206220e-02,  2.14294735e-02,  2.61233803e-02,\n",
       "           1.24168918e-01, -8.23439807e-02,  4.38384190e-02,\n",
       "          -1.01678260e-02, -2.06875019e-02, -1.39802143e-01,\n",
       "          -2.19732197e-03,  4.16436903e-02,  9.93533358e-02,\n",
       "          -2.33009132e-03,  2.76551414e-02],\n",
       "         [ 4.71707508e-02, -1.69895496e-02,  1.05302803e-01,\n",
       "           1.09881699e-01,  1.26680136e-01,  1.43923417e-01,\n",
       "          -6.19323887e-02, -4.68240567e-02,  5.45943566e-02,\n",
       "          -4.21179160e-02, -3.78418379e-02,  7.64524043e-02,\n",
       "          -9.62170810e-02, -6.99010445e-03, -8.42209905e-02,\n",
       "           7.88288638e-02, -1.33726865e-01,  1.05271805e-02,\n",
       "          -9.88810509e-02,  1.12091146e-01,  1.00642525e-01,\n",
       "          -9.49281733e-03, -3.14923413e-02, -1.67061482e-02,\n",
       "           8.07664394e-02,  2.94059291e-02, -6.27536774e-02,\n",
       "          -4.59634960e-02, -6.87493710e-03,  1.27673730e-01,\n",
       "          -5.95053323e-02,  1.06366999e-01]],\n",
       "\n",
       "        [[-1.73583012e-02,  1.17276199e-01, -1.38515145e-01,\n",
       "           2.88129188e-02,  7.00528920e-02, -1.20756231e-01,\n",
       "           1.69580001e-02, -1.02717593e-01,  1.09915502e-01,\n",
       "           7.95581937e-02,  5.85490912e-02, -1.58438757e-02,\n",
       "          -1.20683216e-01,  1.24734022e-01, -1.07406437e-01,\n",
       "          -9.27482247e-02,  1.30764976e-01, -6.86947033e-02,\n",
       "          -5.64417045e-04,  1.29087657e-01, -5.94867617e-02,\n",
       "           6.34755287e-03, -8.29703957e-02, -1.30698189e-01,\n",
       "          -1.17843099e-01,  1.81232449e-02,  3.92012149e-02,\n",
       "          -1.32887855e-01,  1.07616521e-01,  2.09932383e-02,\n",
       "           5.63064143e-02, -3.56741212e-02],\n",
       "         [-5.58150485e-02,  2.37354692e-02, -9.56058055e-02,\n",
       "           1.07368596e-01, -6.48946762e-02,  3.33950594e-02,\n",
       "          -1.34808883e-01, -1.96446497e-02, -8.33934247e-02,\n",
       "          -1.17058843e-01, -2.00838465e-02, -4.46456559e-02,\n",
       "          -2.53528766e-02,  4.22916599e-02,  9.95005071e-02,\n",
       "           1.21290348e-01, -1.42472638e-02, -7.44050220e-02,\n",
       "           1.06284656e-01, -2.52602808e-02, -7.34304115e-02,\n",
       "          -1.17921129e-01, -4.45774235e-02,  4.99093942e-02,\n",
       "           4.48233224e-02, -1.05650023e-01, -1.77533384e-02,\n",
       "           4.45663258e-02,  7.73326010e-02,  1.26067445e-01,\n",
       "           5.80507703e-02, -1.45424728e-03],\n",
       "         [ 9.07065794e-02, -1.19047068e-01,  5.35998046e-02,\n",
       "           1.08131297e-01,  1.11558110e-01,  3.54391173e-03,\n",
       "           8.32800791e-02, -9.12227109e-02, -6.34784177e-02,\n",
       "           8.03794041e-02, -7.48446584e-02, -5.97656853e-02,\n",
       "          -2.48549879e-02, -1.05280727e-01, -5.09415865e-02,\n",
       "          -7.18544796e-02, -1.05860695e-01, -1.49443354e-02,\n",
       "           1.14505611e-01,  3.00753396e-02,  1.10595547e-01,\n",
       "          -1.41155750e-01,  3.87258939e-02, -5.45179434e-02,\n",
       "          -4.18388098e-02,  1.41252905e-01,  3.45320366e-02,\n",
       "           6.25740141e-02,  1.03820585e-01,  1.15359850e-01,\n",
       "           6.19709305e-03, -7.99192265e-02]],\n",
       "\n",
       "        [[-3.72821577e-02, -6.43841252e-02,  9.94846523e-02,\n",
       "           3.32965367e-02, -1.42104864e-01, -6.38251752e-02,\n",
       "           1.98917519e-02, -7.08201602e-02, -2.35738996e-02,\n",
       "          -9.93382707e-02,  1.25362212e-02, -4.82293628e-02,\n",
       "           6.52490631e-02, -2.26730257e-02,  6.95511699e-02,\n",
       "           4.32208106e-02,  9.31651741e-02, -2.14552339e-02,\n",
       "          -2.91180313e-02,  1.62409190e-02, -1.04499169e-01,\n",
       "           5.29301353e-02, -6.91288486e-02,  1.38326660e-01,\n",
       "           8.85045603e-02,  8.77728965e-03, -1.33368939e-01,\n",
       "           4.33022417e-02,  3.89267802e-02,  5.16762361e-02,\n",
       "           1.64302625e-02,  4.52817641e-02],\n",
       "         [ 7.90011063e-02,  4.10949178e-02, -8.84805694e-02,\n",
       "          -5.02131917e-02,  1.45031577e-02, -4.35358621e-02,\n",
       "           1.21744066e-01,  1.08664431e-01, -5.88935241e-02,\n",
       "           6.33057952e-02,  1.26428679e-01,  7.93361440e-02,\n",
       "           9.73270386e-02,  2.68854722e-02, -1.30061164e-01,\n",
       "          -3.39860730e-02, -2.42962241e-02, -1.12740785e-01,\n",
       "           1.29232317e-01,  1.36888502e-02,  1.24561325e-01,\n",
       "          -1.21138938e-01,  5.27127162e-02,  1.11572929e-01,\n",
       "           9.76391360e-02,  1.17468737e-01, -7.86743537e-02,\n",
       "           5.33385854e-03,  7.50854537e-02,  4.93320785e-02,\n",
       "           6.04671724e-02, -6.40515834e-02],\n",
       "         [-1.42734032e-02, -1.71398427e-02,  1.10162184e-01,\n",
       "          -4.88811620e-02, -9.91122238e-03, -1.13974065e-01,\n",
       "          -5.91928922e-02, -9.32934061e-02, -1.41238302e-01,\n",
       "          -7.06837177e-02,  1.11724064e-01, -5.51705919e-02,\n",
       "           8.04878846e-02, -1.45528466e-02,  9.42448080e-02,\n",
       "          -3.44353542e-02,  6.88628554e-02,  1.05633035e-01,\n",
       "          -1.08803399e-01,  5.15645109e-02, -7.80914053e-02,\n",
       "           4.72724065e-02, -1.15155235e-01,  8.41331407e-02,\n",
       "          -4.47026826e-02, -1.11821122e-01, -1.44649819e-01,\n",
       "          -1.11576065e-01,  9.34266523e-02, -6.12360835e-02,\n",
       "          -9.92365777e-02,  1.37633398e-01]]],\n",
       "\n",
       "\n",
       "       [[[-6.12178668e-02,  4.69247252e-02,  3.29209380e-02,\n",
       "          -2.98429746e-03,  9.14840922e-02,  3.47457714e-02,\n",
       "           6.50426075e-02,  6.12109303e-02,  1.30420655e-01,\n",
       "          -2.24161297e-02, -7.55733252e-02,  8.99489820e-02,\n",
       "           1.21998094e-01,  1.43580973e-01, -4.67110053e-02,\n",
       "          -2.12901887e-02, -5.72357960e-02,  7.84945786e-02,\n",
       "          -7.25358352e-02,  1.08817548e-01, -9.75970030e-02,\n",
       "          -7.52750933e-02,  4.82032485e-02, -1.66539960e-02,\n",
       "           1.71779487e-02,  3.05539705e-02,  1.12796620e-01,\n",
       "          -7.05442205e-02,  9.52745900e-02,  1.36351630e-01,\n",
       "           7.25983977e-02, -1.01316802e-01],\n",
       "         [-1.16463028e-01,  2.90357396e-02,  7.75183886e-02,\n",
       "          -1.95115227e-02,  1.13301203e-02,  7.12959170e-02,\n",
       "          -9.58871543e-02, -8.26332644e-02,  1.97729841e-02,\n",
       "           3.30271088e-02,  5.02407998e-02,  9.77310911e-02,\n",
       "           8.31527822e-03,  1.11373141e-01, -8.35240260e-02,\n",
       "          -1.36595055e-01,  3.71091813e-02, -3.45868617e-02,\n",
       "           7.92765915e-02, -3.37453224e-02,  8.85903370e-03,\n",
       "          -9.06431004e-02, -2.51501761e-02, -9.81718376e-02,\n",
       "           4.47201915e-02, -9.36686695e-02,  1.21951461e-01,\n",
       "          -4.38921750e-02,  1.04899183e-01, -1.14273213e-01,\n",
       "           7.86399189e-03, -3.11539546e-02],\n",
       "         [ 9.25423726e-02,  1.04495808e-01, -6.59971125e-03,\n",
       "           1.16897672e-01,  1.00150913e-01,  6.14173897e-02,\n",
       "          -4.00756560e-02,  3.35836820e-02,  1.18505903e-01,\n",
       "           1.03745535e-01, -8.59859958e-02, -5.72833009e-02,\n",
       "           8.33375230e-02,  1.04425289e-01, -1.10908322e-01,\n",
       "           3.85602154e-02, -2.84847580e-02,  8.61967355e-02,\n",
       "           1.39282107e-01,  1.00407435e-03,  9.25335288e-02,\n",
       "           1.06585011e-01,  9.86704752e-02, -1.27322331e-01,\n",
       "          -8.53784680e-02, -7.64832366e-03,  1.32244915e-01,\n",
       "           9.30859819e-02,  9.08851698e-02, -2.13001147e-02,\n",
       "           1.48177091e-02,  2.00620890e-02]],\n",
       "\n",
       "        [[ 4.85306457e-02,  1.10593773e-01, -1.22176334e-01,\n",
       "          -1.08316042e-01,  1.08601607e-01,  8.66968110e-02,\n",
       "          -1.21770240e-01, -9.65116546e-02, -3.64258438e-02,\n",
       "          -9.63166282e-02,  9.34753194e-03, -1.24334246e-01,\n",
       "          -1.29350454e-01, -4.24930528e-02, -8.50669853e-03,\n",
       "          -6.09320216e-03, -8.12405571e-02,  2.56570280e-02,\n",
       "          -1.25804767e-01,  1.43829209e-03, -1.23001441e-01,\n",
       "          -1.18189454e-02, -8.85554962e-03,  6.72778934e-02,\n",
       "          -6.71268329e-02, -1.21386379e-01, -2.98233442e-02,\n",
       "          -6.86387420e-02, -1.85579173e-02, -8.20380971e-02,\n",
       "           2.60826275e-02, -2.25444380e-02],\n",
       "         [-1.35120615e-01, -2.66167894e-02,  1.35263383e-01,\n",
       "          -5.90055808e-02, -7.02767000e-02,  1.25446171e-01,\n",
       "          -1.39370263e-02, -7.76214059e-03, -1.11660652e-01,\n",
       "           4.58432436e-02, -3.08507960e-02,  6.27989508e-03,\n",
       "          -4.60930020e-02, -7.14447200e-02, -6.53234916e-03,\n",
       "          -1.15961172e-01, -1.27352700e-02,  1.24469228e-01,\n",
       "           1.29310220e-01, -7.07449466e-02,  1.23924151e-01,\n",
       "           1.16564624e-01,  7.81247914e-02,  1.04146078e-01,\n",
       "          -6.38610795e-02, -1.10988870e-01, -9.48779508e-02,\n",
       "           4.88489792e-02, -4.77751717e-02, -3.99400517e-02,\n",
       "           2.32117623e-02, -1.06482938e-01],\n",
       "         [-3.69831398e-02,  4.60909270e-02,  1.19000264e-02,\n",
       "          -9.41012874e-02, -8.23591873e-02, -7.89529830e-02,\n",
       "           2.12501176e-02, -4.93979380e-02,  1.33835196e-01,\n",
       "          -7.77119324e-02,  5.22996746e-02, -6.59917369e-02,\n",
       "          -1.63692785e-05, -2.72772033e-02, -9.73158553e-02,\n",
       "          -4.05555964e-02, -8.21301565e-02, -5.01141278e-03,\n",
       "           1.01319492e-01, -9.26824436e-02,  8.45535472e-02,\n",
       "          -6.09441027e-02, -6.24567196e-02,  1.32277021e-02,\n",
       "           8.32530390e-03, -5.63820004e-02, -9.01273042e-02,\n",
       "           1.73854977e-02, -1.32052809e-01, -7.22136348e-02,\n",
       "           8.83021280e-02,  6.84919283e-02]],\n",
       "\n",
       "        [[-3.41148525e-02,  9.96236503e-03, -9.10957381e-02,\n",
       "          -3.04731131e-02, -2.85803545e-02, -1.01329997e-01,\n",
       "           1.22447582e-02, -3.54222804e-02, -5.63657545e-02,\n",
       "          -9.42590833e-02, -1.58382729e-01,  8.71237591e-02,\n",
       "          -4.64015221e-03, -1.05878882e-01, -9.33675170e-02,\n",
       "           8.27339441e-02, -7.35860225e-03, -9.55331698e-02,\n",
       "           1.21127710e-01, -1.08442731e-01, -8.93177092e-02,\n",
       "           4.37061712e-02,  1.22461691e-02, -5.50596043e-03,\n",
       "          -5.97197078e-02, -8.82363096e-02,  3.31341177e-02,\n",
       "           7.82086253e-02,  6.78678527e-02,  6.07495084e-02,\n",
       "          -4.99292165e-02,  2.31968332e-02],\n",
       "         [-6.51778877e-02,  1.29668355e-01,  1.37131780e-01,\n",
       "           1.22290123e-02,  8.10659453e-02,  6.21150285e-02,\n",
       "           6.92245811e-02,  8.76784176e-02,  1.18494809e-01,\n",
       "          -1.03383124e-01, -8.62626452e-03, -4.00971174e-02,\n",
       "          -4.75486107e-02, -2.06440836e-02,  9.75589752e-02,\n",
       "          -2.54945233e-02,  4.70853932e-02, -4.77858745e-02,\n",
       "          -1.07216939e-01, -1.01821199e-02, -1.16288580e-01,\n",
       "           8.81690085e-02, -5.75837605e-02,  4.12934162e-02,\n",
       "           9.22031701e-02,  9.13489386e-02,  5.77916801e-02,\n",
       "           1.81717444e-02,  1.06019385e-01,  8.84424616e-03,\n",
       "           3.59086739e-03, -1.33789508e-02],\n",
       "         [-1.23112641e-01, -5.48675358e-02, -4.85248007e-02,\n",
       "          -4.30957749e-02, -1.03093140e-01,  1.11771509e-01,\n",
       "          -3.89837958e-02, -3.41244042e-02, -8.73609483e-02,\n",
       "           1.06459588e-01,  1.08400054e-01,  1.22087657e-01,\n",
       "           3.59577425e-02, -1.05462916e-01,  1.93846761e-03,\n",
       "          -5.20305745e-02, -1.39162213e-01,  6.18923549e-03,\n",
       "           2.63017565e-02, -1.33814603e-01, -7.84202851e-03,\n",
       "          -5.37970141e-02,  5.52659258e-02, -1.02612153e-02,\n",
       "           3.50604244e-02, -1.35101572e-01, -1.22969195e-01,\n",
       "          -1.06725618e-01, -1.11580767e-01, -8.17844644e-02,\n",
       "           9.78078321e-03,  5.83285354e-02]]],\n",
       "\n",
       "\n",
       "       [[[ 1.30914181e-01, -1.42189682e-01,  3.81140411e-02,\n",
       "           5.78693673e-02,  5.16073965e-02, -8.14264044e-02,\n",
       "          -8.72485638e-02,  4.01264317e-02,  1.37097180e-01,\n",
       "          -7.06410483e-02, -8.86286497e-02, -7.93685243e-02,\n",
       "           3.24044079e-02,  1.27264231e-01, -1.37948513e-01,\n",
       "          -1.20321609e-01, -6.42271014e-04,  4.90999036e-02,\n",
       "          -5.33529297e-02, -1.83651317e-02,  1.32727772e-01,\n",
       "           3.84038649e-02, -1.43467650e-01, -5.67675196e-02,\n",
       "           6.00951873e-02,  1.29870981e-01, -5.15888520e-02,\n",
       "           5.17480541e-03, -1.22622155e-01,  1.38441369e-01,\n",
       "          -1.24029703e-01,  6.56571612e-02],\n",
       "         [-1.27663150e-01,  1.19604886e-01, -9.87137761e-03,\n",
       "           5.84099703e-02,  2.64769141e-02, -2.34607104e-02,\n",
       "          -1.29284821e-02,  5.54690894e-04, -1.13674574e-01,\n",
       "          -1.82271805e-02,  6.88680215e-03, -8.16663541e-03,\n",
       "          -2.62158755e-02, -5.19724414e-02,  4.07291017e-02,\n",
       "          -1.27299801e-01,  1.12353787e-01, -6.06707074e-02,\n",
       "          -2.75462866e-02,  1.32461533e-01, -9.67842937e-02,\n",
       "           6.07087165e-02,  3.03586069e-02, -1.07115299e-01,\n",
       "           2.80646104e-02,  5.59688509e-02,  5.03663868e-02,\n",
       "          -1.48982406e-01, -1.35661349e-01,  4.01483253e-02,\n",
       "          -7.43436976e-04, -1.16248846e-01],\n",
       "         [ 1.31710265e-02,  8.20570365e-02, -1.31258219e-01,\n",
       "           8.36727035e-04,  1.15897000e-01, -6.47747219e-02,\n",
       "           1.19225234e-01,  8.77816826e-02,  7.03477636e-02,\n",
       "           1.28892645e-01,  8.05810317e-02,  5.79156652e-02,\n",
       "          -2.20206268e-02,  9.27723572e-02, -3.91141661e-02,\n",
       "          -1.29544616e-01, -6.44217804e-02,  6.49963617e-02,\n",
       "          -4.83922586e-02,  4.84426618e-02,  1.74656231e-02,\n",
       "          -4.85293567e-02, -1.49578080e-01, -1.35272415e-02,\n",
       "          -4.05038670e-02,  1.29716411e-01, -1.28398463e-01,\n",
       "           6.69718906e-02, -1.36721954e-01, -5.12286462e-02,\n",
       "          -1.27277523e-01, -1.11009844e-01]],\n",
       "\n",
       "        [[ 1.31507829e-01, -1.19874947e-01,  2.55707558e-02,\n",
       "          -6.68142289e-02, -9.43903625e-02,  3.45853530e-02,\n",
       "           3.53391282e-02,  1.00110576e-01,  5.39663322e-02,\n",
       "           1.05700471e-01, -4.20356030e-03, -1.02819644e-01,\n",
       "           9.58189443e-02, -2.61009559e-02,  7.17582041e-03,\n",
       "          -6.56631216e-02, -8.21782649e-02, -8.31298232e-02,\n",
       "           5.67866378e-02, -4.96215485e-02, -5.64678684e-02,\n",
       "          -1.03515930e-01,  9.39867869e-02, -6.04170747e-02,\n",
       "          -1.25703156e-01, -7.67299756e-02, -3.06632724e-02,\n",
       "          -6.52254969e-02,  5.61406352e-02,  9.86367092e-02,\n",
       "          -5.97526028e-04,  1.34868294e-01],\n",
       "         [ 1.25513345e-01, -8.43824539e-03,  9.97315943e-02,\n",
       "           7.32394978e-02, -1.13511778e-01,  1.12960018e-01,\n",
       "          -7.02640340e-02,  1.12379089e-01, -1.06570646e-01,\n",
       "          -1.00159690e-01,  8.32381248e-02,  1.34686381e-01,\n",
       "          -8.53468701e-02, -5.27982973e-02, -6.34342134e-02,\n",
       "          -1.29820123e-01, -9.35410783e-02, -5.86817935e-02,\n",
       "           1.11305475e-01, -6.70823157e-02,  8.11410174e-02,\n",
       "          -1.45566054e-02, -2.86644176e-02, -1.14158876e-01,\n",
       "           2.96001043e-02, -2.54397339e-04, -6.05619862e-04,\n",
       "           4.70161028e-02, -3.20262881e-03,  7.35557228e-02,\n",
       "          -5.68612181e-02, -1.65095180e-02],\n",
       "         [ 5.25478879e-03,  8.69846195e-02, -1.07139558e-01,\n",
       "           7.76638463e-02, -6.28655031e-02,  5.73177682e-03,\n",
       "          -1.21200398e-01, -1.31174147e-01,  8.83327946e-02,\n",
       "          -1.17220342e-01, -7.23419711e-02, -6.25015944e-02,\n",
       "          -5.34026325e-02,  2.65642293e-02, -1.01991100e-02,\n",
       "           8.02127942e-02,  2.30232663e-02,  4.80923913e-02,\n",
       "           5.70979938e-02,  3.66690643e-02,  4.87229489e-02,\n",
       "          -2.50621587e-02, -3.51438932e-02, -1.40213147e-01,\n",
       "           9.84027684e-02, -5.49186394e-02,  1.27136648e-01,\n",
       "          -1.39221162e-01, -1.23586603e-01, -5.41647710e-02,\n",
       "          -1.38472080e-01,  6.10073581e-02]],\n",
       "\n",
       "        [[ 8.74168053e-02, -8.80566798e-03,  4.52918150e-02,\n",
       "           2.36459598e-02,  7.14085856e-03, -8.72282088e-02,\n",
       "           9.71773267e-02, -5.38498648e-02,  8.61695334e-02,\n",
       "          -2.38446165e-02, -2.00161394e-02, -4.57759276e-02,\n",
       "           1.28463611e-01,  6.29302785e-02, -5.09924479e-02,\n",
       "          -7.11876079e-02, -1.30426317e-01,  3.22135761e-02,\n",
       "           5.57425544e-02,  7.63457268e-02,  9.65458434e-03,\n",
       "           1.20328605e-01, -2.51596281e-03,  8.88291895e-02,\n",
       "          -6.89242557e-02,  4.54166010e-02,  4.42517884e-02,\n",
       "          -4.17576842e-02,  1.30845562e-01, -2.95257475e-02,\n",
       "           7.09096566e-02, -9.57148895e-02],\n",
       "         [ 9.90159139e-02, -1.12452447e-01, -6.57988936e-02,\n",
       "          -1.45520985e-01,  8.84428322e-02,  6.52510971e-02,\n",
       "          -3.60876992e-02, -4.03668620e-02,  1.14939168e-01,\n",
       "          -2.46206969e-02,  8.83435234e-02,  8.45413059e-02,\n",
       "          -1.42697632e-01, -1.12545872e-02,  9.70443264e-02,\n",
       "          -3.09836827e-02, -1.44837704e-02,  9.23407674e-02,\n",
       "          -9.37481225e-02, -8.36004838e-02, -5.57791553e-02,\n",
       "          -6.35556057e-02,  5.70870936e-03,  8.50757360e-02,\n",
       "           1.32880524e-01,  8.82347971e-02,  7.77028799e-02,\n",
       "          -5.42918034e-02,  3.25813852e-02, -3.29779834e-02,\n",
       "           1.82279013e-02, -2.29847594e-03],\n",
       "         [ 8.55318159e-02, -1.29086357e-02, -1.10182457e-01,\n",
       "           1.05336085e-01,  1.09193534e-01,  3.63487713e-02,\n",
       "           1.35904878e-01,  1.12554114e-02, -5.51082306e-02,\n",
       "           1.39253214e-01,  1.19406030e-01, -6.34787008e-02,\n",
       "          -4.86300886e-02,  1.71499848e-02, -1.74601097e-02,\n",
       "          -1.70030612e-02, -9.00446698e-02,  1.17607795e-01,\n",
       "          -4.76144701e-02, -6.43421188e-02, -8.80915448e-02,\n",
       "           3.53423296e-03, -1.63064164e-03,  9.29568112e-02,\n",
       "           1.33405417e-01,  4.09236029e-02,  8.95105153e-02,\n",
       "          -9.00567416e-03,  1.87628865e-02,  5.04379794e-02,\n",
       "           8.36594179e-02,  5.50935008e-02]]]], dtype=float32)"
      ]
     },
     "execution_count": 64,
     "metadata": {},
     "output_type": "execute_result"
    }
   ],
   "source": [
    "weight"
   ]
  }
 ],
 "metadata": {
  "kernelspec": {
   "display_name": "Python 3",
   "language": "python",
   "name": "python3"
  },
  "language_info": {
   "codemirror_mode": {
    "name": "ipython",
    "version": 3
   },
   "file_extension": ".py",
   "mimetype": "text/x-python",
   "name": "python",
   "nbconvert_exporter": "python",
   "pygments_lexer": "ipython3",
   "version": "3.8.3"
  }
 },
 "nbformat": 4,
 "nbformat_minor": 2
}
