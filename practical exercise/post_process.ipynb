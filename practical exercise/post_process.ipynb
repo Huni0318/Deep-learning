{
 "cells": [
  {
   "cell_type": "markdown",
   "metadata": {},
   "source": [
    "# TensorFlow 2.0"
   ]
  },
  {
   "cell_type": "code",
   "execution_count": 1,
   "metadata": {},
   "outputs": [],
   "source": [
    "import os\n",
    "from glob import glob\n",
    "from datetime import datetime\n",
    "\n",
    "import numpy as np\n",
    "\n",
    "import tensorflow as tf\n",
    "from tensorflow.keras import layers\n",
    "\n",
    "from tensorflow.keras import datasets \n",
    "\n",
    "import matplotlib.pyplot as plt\n",
    "\n",
    "%matplotlib inline"
   ]
  },
  {
   "cell_type": "markdown",
   "metadata": {},
   "source": [
    "## Hyperparameter Tunning"
   ]
  },
  {
   "cell_type": "code",
   "execution_count": 2,
   "metadata": {},
   "outputs": [],
   "source": [
    "num_epochs = 50\n",
    "batch_size = 32\n",
    "\n",
    "learning_rate = 0.001\n",
    "\n",
    "dropout_rate = 0.5\n",
    "\n",
    "input_shape = (32, 32, 3)\n",
    "num_classes = 10"
   ]
  },
  {
   "cell_type": "markdown",
   "metadata": {},
   "source": [
    "## Build Model"
   ]
  },
  {
   "cell_type": "code",
   "execution_count": 3,
   "metadata": {},
   "outputs": [],
   "source": [
    "inputs = layers.Input(input_shape)\n",
    "\n",
    "net = layers.Conv2D(32, (3, 3), padding='SAME')(inputs)\n",
    "net = layers.Activation('relu')(net)\n",
    "net = layers.Conv2D(32, (3, 3), padding='SAME')(net)\n",
    "net = layers.Activation('relu')(net)\n",
    "net = layers.MaxPooling2D(pool_size=(2, 2))(net)\n",
    "net = layers.Dropout(dropout_rate)(net)\n",
    "\n",
    "net = layers.Conv2D(64, (3, 3), padding='SAME')(net)\n",
    "net = layers.Activation('relu')(net)\n",
    "net = layers.Conv2D(64, (3, 3), padding='SAME')(net)\n",
    "net = layers.Activation('relu')(net)\n",
    "net = layers.MaxPooling2D(pool_size=(2, 2))(net)\n",
    "net = layers.Dropout(dropout_rate)(net)\n",
    "\n",
    "net = layers.Flatten()(net)\n",
    "net = layers.Dense(512)(net)\n",
    "net = layers.Activation('relu')(net)\n",
    "net = layers.Dropout(dropout_rate)(net)\n",
    "net = layers.Dense(num_classes)(net)\n",
    "net = layers.Activation('softmax')(net)\n",
    "\n",
    "model = tf.keras.Model(inputs=inputs, outputs=net, name='Basic_CNN')"
   ]
  },
  {
   "cell_type": "code",
   "execution_count": 4,
   "metadata": {},
   "outputs": [],
   "source": [
    "# Model is the full model w/o custom layers\n",
    "model.compile(optimizer=tf.keras.optimizers.Adam(learning_rate),  # Optimization\n",
    "              loss='sparse_categorical_crossentropy',  # Loss Function \n",
    "              metrics=['accuracy'])  # Metrics / Accuracy"
   ]
  },
  {
   "cell_type": "markdown",
   "metadata": {},
   "source": [
    "# Data Preprocess"
   ]
  },
  {
   "cell_type": "code",
   "execution_count": 14,
   "metadata": {},
   "outputs": [],
   "source": [
    "train_paths = glob('C:/Users/신상훈/Desktop/새 폴더/dataset/cifar/train/*.png')[:1000]\n",
    "test_paths = glob('C:/Users/신상훈/Desktop/새 폴더/dataset/cifar/test/*.png')[:1000]"
   ]
  },
  {
   "cell_type": "code",
   "execution_count": 15,
   "metadata": {},
   "outputs": [],
   "source": [
    "def get_class_name(path):\n",
    "    return path.split('_')[-1].replace('.png', '')"
   ]
  },
  {
   "cell_type": "code",
   "execution_count": 16,
   "metadata": {},
   "outputs": [],
   "source": [
    "train_labels = [get_class_name(path) for path in train_paths]\n",
    "class_names = np.unique(train_labels)"
   ]
  },
  {
   "cell_type": "code",
   "execution_count": 17,
   "metadata": {},
   "outputs": [],
   "source": [
    "def get_label(path):\n",
    "    fname = tf.strings.split(path, '_')[-1]\n",
    "    lbl_name = tf.strings.regex_replace(fname, '.png', '')\n",
    "    onehot = tf.cast(lbl_name == class_names, tf.uint8)\n",
    "    return tf.argmax(onehot)  # 이번에는 onehot이 아닌 label 번호로"
   ]
  },
  {
   "cell_type": "code",
   "execution_count": 18,
   "metadata": {},
   "outputs": [],
   "source": [
    "def load_image_label(path):\n",
    "    gfile = tf.io.read_file(path)\n",
    "    image = tf.io.decode_image(gfile)\n",
    "    image = tf.cast(image, tf.float32) / 255.  # rescale\n",
    "    \n",
    "    label = get_label(path)\n",
    "    return image, label"
   ]
  },
  {
   "cell_type": "code",
   "execution_count": 19,
   "metadata": {},
   "outputs": [],
   "source": [
    "def image_preprocess(image, label):\n",
    "    image = tf.image.random_flip_up_down(image)\n",
    "    image = tf.image.random_flip_left_right(image)\n",
    "    return image, label"
   ]
  },
  {
   "cell_type": "code",
   "execution_count": 20,
   "metadata": {},
   "outputs": [],
   "source": [
    "AUTOTUNE = tf.data.experimental.AUTOTUNE"
   ]
  },
  {
   "cell_type": "code",
   "execution_count": 21,
   "metadata": {
    "scrolled": false
   },
   "outputs": [],
   "source": [
    "train_dataset = tf.data.Dataset.from_tensor_slices(train_paths)\n",
    "train_dataset = train_dataset.map(load_image_label, num_parallel_calls=AUTOTUNE)\n",
    "train_dataset = train_dataset.map(image_preprocess, num_parallel_calls=AUTOTUNE)\n",
    "train_dataset = train_dataset.batch(batch_size)\n",
    "train_dataset = train_dataset.shuffle(buffer_size=len(train_paths))\n",
    "train_dataset = train_dataset.repeat()"
   ]
  },
  {
   "cell_type": "code",
   "execution_count": 22,
   "metadata": {},
   "outputs": [],
   "source": [
    "test_dataset = tf.data.Dataset.from_tensor_slices(test_paths)\n",
    "test_dataset = test_dataset.map(load_image_label, num_parallel_calls=AUTOTUNE)\n",
    "test_dataset = test_dataset.batch(batch_size)\n",
    "test_dataset = test_dataset.repeat()"
   ]
  },
  {
   "cell_type": "markdown",
   "metadata": {},
   "source": [
    "## Training"
   ]
  },
  {
   "cell_type": "code",
   "execution_count": 23,
   "metadata": {
    "scrolled": false
   },
   "outputs": [
    {
     "name": "stderr",
     "output_type": "stream",
     "text": [
      "C:\\ProgramData\\Anaconda3\\lib\\site-packages\\tensorflow\\python\\keras\\engine\\training.py:1844: UserWarning: `Model.fit_generator` is deprecated and will be removed in a future version. Please use `Model.fit`, which supports generators.\n",
      "  warnings.warn('`Model.fit_generator` is deprecated and '\n"
     ]
    },
    {
     "name": "stdout",
     "output_type": "stream",
     "text": [
      "Epoch 1/50\n",
      "31/31 [==============================] - 4s 98ms/step - loss: 2.3294 - accuracy: 0.0948 - val_loss: 2.2884 - val_accuracy: 0.1129\n",
      "Epoch 2/50\n",
      "31/31 [==============================] - 3s 93ms/step - loss: 2.2609 - accuracy: 0.1354 - val_loss: 2.2055 - val_accuracy: 0.1512\n",
      "Epoch 3/50\n",
      "31/31 [==============================] - 3s 103ms/step - loss: 2.1930 - accuracy: 0.1639 - val_loss: 2.1316 - val_accuracy: 0.1915\n",
      "Epoch 4/50\n",
      "31/31 [==============================] - 3s 103ms/step - loss: 2.1532 - accuracy: 0.1762 - val_loss: 2.1145 - val_accuracy: 0.1895\n",
      "Epoch 5/50\n",
      "31/31 [==============================] - 3s 100ms/step - loss: 2.1274 - accuracy: 0.2113 - val_loss: 2.0606 - val_accuracy: 0.2308\n",
      "Epoch 6/50\n",
      "31/31 [==============================] - 3s 102ms/step - loss: 2.0317 - accuracy: 0.2608 - val_loss: 2.0066 - val_accuracy: 0.2389\n",
      "Epoch 7/50\n",
      "31/31 [==============================] - 3s 102ms/step - loss: 1.9391 - accuracy: 0.2386 - val_loss: 2.0025 - val_accuracy: 0.2419\n",
      "Epoch 8/50\n",
      "31/31 [==============================] - 3s 100ms/step - loss: 1.9357 - accuracy: 0.2811 - val_loss: 1.9025 - val_accuracy: 0.3024\n",
      "Epoch 9/50\n",
      "31/31 [==============================] - 4s 114ms/step - loss: 1.8258 - accuracy: 0.3010 - val_loss: 1.9083 - val_accuracy: 0.3014\n",
      "Epoch 10/50\n",
      "31/31 [==============================] - 3s 112ms/step - loss: 1.9067 - accuracy: 0.2877 - val_loss: 1.8697 - val_accuracy: 0.2843\n",
      "Epoch 11/50\n",
      "31/31 [==============================] - 3s 109ms/step - loss: 1.9412 - accuracy: 0.2642 - val_loss: 1.8537 - val_accuracy: 0.3065\n",
      "Epoch 12/50\n",
      "31/31 [==============================] - 3s 109ms/step - loss: 1.8320 - accuracy: 0.2918 - val_loss: 1.8629 - val_accuracy: 0.2833\n",
      "Epoch 13/50\n",
      "31/31 [==============================] - 3s 106ms/step - loss: 1.8543 - accuracy: 0.3157 - val_loss: 1.8528 - val_accuracy: 0.3327\n",
      "Epoch 14/50\n",
      "31/31 [==============================] - 3s 105ms/step - loss: 1.8042 - accuracy: 0.3440 - val_loss: 1.8074 - val_accuracy: 0.3327\n",
      "Epoch 15/50\n",
      "31/31 [==============================] - 3s 106ms/step - loss: 1.7684 - accuracy: 0.3133 - val_loss: 1.8045 - val_accuracy: 0.3306\n",
      "Epoch 16/50\n",
      "31/31 [==============================] - 3s 107ms/step - loss: 1.7331 - accuracy: 0.3455 - val_loss: 1.7800 - val_accuracy: 0.3679\n",
      "Epoch 17/50\n",
      "31/31 [==============================] - 3s 105ms/step - loss: 1.7135 - accuracy: 0.3508 - val_loss: 1.8229 - val_accuracy: 0.3377\n",
      "Epoch 18/50\n",
      "31/31 [==============================] - 3s 108ms/step - loss: 1.6768 - accuracy: 0.3722 - val_loss: 1.7510 - val_accuracy: 0.3700\n",
      "Epoch 19/50\n",
      "31/31 [==============================] - 3s 108ms/step - loss: 1.7309 - accuracy: 0.3596 - val_loss: 1.8650 - val_accuracy: 0.3377\n",
      "Epoch 20/50\n",
      "31/31 [==============================] - 3s 107ms/step - loss: 1.6935 - accuracy: 0.4022 - val_loss: 1.7403 - val_accuracy: 0.3609\n",
      "Epoch 21/50\n",
      "31/31 [==============================] - 3s 105ms/step - loss: 1.6654 - accuracy: 0.4001 - val_loss: 1.7693 - val_accuracy: 0.3498\n",
      "Epoch 22/50\n",
      "31/31 [==============================] - 4s 118ms/step - loss: 1.6195 - accuracy: 0.4153 - val_loss: 1.7312 - val_accuracy: 0.3720\n",
      "Epoch 23/50\n",
      "31/31 [==============================] - 4s 131ms/step - loss: 1.5727 - accuracy: 0.4264 - val_loss: 1.7508 - val_accuracy: 0.3589\n",
      "Epoch 24/50\n",
      "31/31 [==============================] - 4s 135ms/step - loss: 1.5575 - accuracy: 0.4142 - val_loss: 1.7170 - val_accuracy: 0.3760\n",
      "Epoch 25/50\n",
      "31/31 [==============================] - 5s 149ms/step - loss: 1.5588 - accuracy: 0.4344 - val_loss: 1.6886 - val_accuracy: 0.3871\n",
      "Epoch 26/50\n",
      "31/31 [==============================] - 4s 133ms/step - loss: 1.5011 - accuracy: 0.4641 - val_loss: 1.7354 - val_accuracy: 0.3901\n",
      "Epoch 27/50\n",
      "31/31 [==============================] - 4s 124ms/step - loss: 1.5098 - accuracy: 0.4386 - val_loss: 1.6735 - val_accuracy: 0.4052\n",
      "Epoch 28/50\n",
      "31/31 [==============================] - 4s 120ms/step - loss: 1.4801 - accuracy: 0.4349 - val_loss: 1.7279 - val_accuracy: 0.3881\n",
      "Epoch 29/50\n",
      "31/31 [==============================] - 4s 121ms/step - loss: 1.4393 - accuracy: 0.4599 - val_loss: 1.6652 - val_accuracy: 0.4133\n",
      "Epoch 30/50\n",
      "31/31 [==============================] - 4s 117ms/step - loss: 1.3994 - accuracy: 0.5058 - val_loss: 1.6669 - val_accuracy: 0.4244\n",
      "Epoch 31/50\n",
      "31/31 [==============================] - 4s 115ms/step - loss: 1.4210 - accuracy: 0.4910 - val_loss: 1.6505 - val_accuracy: 0.4133\n",
      "Epoch 32/50\n",
      "31/31 [==============================] - 4s 116ms/step - loss: 1.3579 - accuracy: 0.4990 - val_loss: 1.6520 - val_accuracy: 0.4274\n",
      "Epoch 33/50\n",
      "31/31 [==============================] - 4s 117ms/step - loss: 1.3314 - accuracy: 0.5133 - val_loss: 1.7998 - val_accuracy: 0.4083\n",
      "Epoch 34/50\n",
      "31/31 [==============================] - 4s 121ms/step - loss: 1.3764 - accuracy: 0.4813 - val_loss: 1.7133 - val_accuracy: 0.4032\n",
      "Epoch 35/50\n",
      "31/31 [==============================] - 4s 120ms/step - loss: 1.4251 - accuracy: 0.4788 - val_loss: 1.6229 - val_accuracy: 0.4163\n",
      "Epoch 36/50\n",
      "31/31 [==============================] - 4s 119ms/step - loss: 1.3536 - accuracy: 0.5052 - val_loss: 1.6372 - val_accuracy: 0.4173\n",
      "Epoch 37/50\n",
      "31/31 [==============================] - 4s 118ms/step - loss: 1.2906 - accuracy: 0.5283 - val_loss: 1.6806 - val_accuracy: 0.4395\n",
      "Epoch 38/50\n",
      "31/31 [==============================] - 4s 118ms/step - loss: 1.2721 - accuracy: 0.5331 - val_loss: 1.6303 - val_accuracy: 0.4375\n",
      "Epoch 39/50\n",
      "31/31 [==============================] - 4s 132ms/step - loss: 1.3276 - accuracy: 0.5125 - val_loss: 1.6595 - val_accuracy: 0.4284\n",
      "Epoch 40/50\n",
      "31/31 [==============================] - 4s 126ms/step - loss: 1.1798 - accuracy: 0.5739 - val_loss: 1.5692 - val_accuracy: 0.4496\n",
      "Epoch 41/50\n",
      "31/31 [==============================] - 4s 126ms/step - loss: 1.2090 - accuracy: 0.5743 - val_loss: 1.6041 - val_accuracy: 0.4345\n",
      "Epoch 42/50\n",
      "31/31 [==============================] - 4s 128ms/step - loss: 1.2535 - accuracy: 0.5467 - val_loss: 1.6456 - val_accuracy: 0.4254\n",
      "Epoch 43/50\n",
      "31/31 [==============================] - 4s 139ms/step - loss: 1.1923 - accuracy: 0.5612 - val_loss: 1.6680 - val_accuracy: 0.4486\n",
      "Epoch 44/50\n",
      "31/31 [==============================] - 4s 122ms/step - loss: 1.1686 - accuracy: 0.5712 - val_loss: 1.6100 - val_accuracy: 0.4446\n",
      "Epoch 45/50\n",
      "31/31 [==============================] - 4s 136ms/step - loss: 1.1065 - accuracy: 0.5719 - val_loss: 1.5713 - val_accuracy: 0.4667\n",
      "Epoch 46/50\n",
      "31/31 [==============================] - 4s 128ms/step - loss: 1.1205 - accuracy: 0.6015 - val_loss: 1.6398 - val_accuracy: 0.4405\n",
      "Epoch 47/50\n",
      "31/31 [==============================] - 4s 124ms/step - loss: 1.1378 - accuracy: 0.5851 - val_loss: 1.6105 - val_accuracy: 0.4546\n",
      "Epoch 48/50\n",
      "31/31 [==============================] - 4s 126ms/step - loss: 1.0966 - accuracy: 0.6255 - val_loss: 1.6332 - val_accuracy: 0.4677\n",
      "Epoch 49/50\n",
      "31/31 [==============================] - 4s 123ms/step - loss: 1.0788 - accuracy: 0.6193 - val_loss: 1.7307 - val_accuracy: 0.4617\n",
      "Epoch 50/50\n",
      "31/31 [==============================] - 4s 134ms/step - loss: 1.0086 - accuracy: 0.6155 - val_loss: 1.6785 - val_accuracy: 0.4556\n"
     ]
    }
   ],
   "source": [
    "steps_per_epoch = len(train_paths) // batch_size\n",
    "validation_steps = len(test_paths) // batch_size\n",
    "\n",
    "history = model.fit_generator(\n",
    "    train_dataset,\n",
    "    steps_per_epoch=steps_per_epoch,\n",
    "    validation_data=test_dataset,\n",
    "    validation_steps=validation_steps,\n",
    "    epochs=num_epochs\n",
    ")"
   ]
  },
  {
   "cell_type": "markdown",
   "metadata": {},
   "source": [
    "# History 들여다 보기 "
   ]
  },
  {
   "cell_type": "code",
   "execution_count": null,
   "metadata": {},
   "outputs": [],
   "source": []
  }
 ],
 "metadata": {
  "kernelspec": {
   "display_name": "Python 3",
   "language": "python",
   "name": "python3"
  },
  "language_info": {
   "codemirror_mode": {
    "name": "ipython",
    "version": 3
   },
   "file_extension": ".py",
   "mimetype": "text/x-python",
   "name": "python",
   "nbconvert_exporter": "python",
   "pygments_lexer": "ipython3",
   "version": "3.8.3"
  }
 },
 "nbformat": 4,
 "nbformat_minor": 2
}
