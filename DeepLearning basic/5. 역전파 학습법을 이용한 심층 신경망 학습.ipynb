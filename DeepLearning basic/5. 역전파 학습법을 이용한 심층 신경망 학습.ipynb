{
 "cells": [
  {
   "cell_type": "markdown",
   "metadata": {},
   "source": [
    "## 역전파 학습법을 이용한 심층 신경망 학습"
   ]
  },
  {
   "cell_type": "code",
   "execution_count": 2,
   "metadata": {},
   "outputs": [],
   "source": [
    "import time\n",
    "import numpy as np"
   ]
  },
  {
   "cell_type": "markdown",
   "metadata": {},
   "source": [
    "## 유틸리티 함수"
   ]
  },
  {
   "cell_type": "code",
   "execution_count": 3,
   "metadata": {},
   "outputs": [],
   "source": [
    "def _t(x):\n",
    "    return np.transpose(x)\n",
    "\n",
    "def _m(A, B):\n",
    "    return np.matmul(A, B)"
   ]
  },
  {
   "cell_type": "markdown",
   "metadata": {},
   "source": [
    "## Sigmoid 구현"
   ]
  },
  {
   "cell_type": "code",
   "execution_count": 4,
   "metadata": {},
   "outputs": [],
   "source": [
    "class Sigmoid: \n",
    "    def __init__(self):\n",
    "        self.last_o = 1\n",
    "\n",
    "    def __call__(self, x):\n",
    "        self.last_o = 1 / (1.0 + np.exp(-x))\n",
    "        return self.last_o\n",
    "\n",
    "    def grad(self): # sigmoid(x)(1-sigmoid(x))\n",
    "        return self.last_o * (1 - self.last_o)"
   ]
  },
  {
   "cell_type": "markdown",
   "metadata": {},
   "source": [
    "## Mean Squared Error 구현"
   ]
  },
  {
   "cell_type": "code",
   "execution_count": 5,
   "metadata": {},
   "outputs": [],
   "source": [
    "class MeanSquaredError:\n",
    "    def __init__(self):\n",
    "        # gradient\n",
    "        self.dh = 1\n",
    "        self.last_diff = 1        \n",
    "\n",
    "    def __call__(self, h, y): # 1/2 * mean ((h - y)^2)\n",
    "        self.last_diff = h - y\n",
    "        return 1 / 2 * np.mean(np.square(h - y))\n",
    "\n",
    "    def grad(self): # h - y\n",
    "        return self.last_diff"
   ]
  },
  {
   "cell_type": "markdown",
   "metadata": {},
   "source": [
    "## 뉴런 구현"
   ]
  },
  {
   "cell_type": "code",
   "execution_count": 6,
   "metadata": {},
   "outputs": [],
   "source": [
    "class Neuron:\n",
    "    def __init__(self, W, b, a_obj):\n",
    "        # Model parameters\n",
    "        self.W = W\n",
    "        self.b = b\n",
    "        self.a = a_obj()\n",
    "        \n",
    "        # gradient\n",
    "        self.dW = np.zeros_like(self.W)\n",
    "        self.db = np.zeros_like(self.b)\n",
    "        self.dh = np.zeros_like(_t(self.W))\n",
    "        \n",
    "        self.last_x = np.zeros((self.W.shape[0]))\n",
    "        self.last_h = np.zeros((self.W.shape[1]))\n",
    "\n",
    "    def __call__(self, x):\n",
    "        self.last_x = x\n",
    "        self.last_h = _m(_t(self.W), x) + self.b\n",
    "        return self.a(self.last_h)\n",
    "\n",
    "    def grad(self): # dy/dh = W\n",
    "        return self.W * self.a.grad()\n",
    "\n",
    "    def grad_W(self, dh):\n",
    "        grad = np.ones_like(self.W)\n",
    "        grad_a = self.a.grad()\n",
    "        for j in range(grad.shape[1]): # dy/dw = x\n",
    "            grad[:, j] = dh[j] * grad_a[j] * self.last_x\n",
    "        return grad\n",
    "\n",
    "    def grad_b(self, dh): # dy/dh = 1\n",
    "        return dh * self.a.grad()"
   ]
  },
  {
   "cell_type": "markdown",
   "metadata": {},
   "source": [
    "## 심층신경망 구현"
   ]
  },
  {
   "cell_type": "code",
   "execution_count": 7,
   "metadata": {},
   "outputs": [],
   "source": [
    "class DNN:\n",
    "    def __init__(self, hidden_depth, num_neuron, input, output, activation=Sigmoid):\n",
    "        def init_var(i, o):\n",
    "            return np.random.normal(0.0, 0.01, (i, o)), np.zeros((o,))\n",
    "\n",
    "        self.sequence = list()\n",
    "        # First hidden layer\n",
    "        W, b = init_var(input, num_neuron)\n",
    "        self.sequence.append(Neuron(W, b, activation))\n",
    "\n",
    "        # Hidden Layers\n",
    "        for index in range(hidden_depth):\n",
    "            W, b = init_var(num_neuron, num_neuron)\n",
    "            self.sequence.append(Neuron(W, b, activation))\n",
    "\n",
    "        # Output Layer\n",
    "        W, b = init_var(num_neuron, output)\n",
    "        self.sequence.append(Neuron(W, b, activation))\n",
    "\n",
    "    def __call__(self, x):\n",
    "        for layer in self.sequence:\n",
    "            x = layer(x)\n",
    "        return x\n",
    "\n",
    "    def calc_gradient(self, loss_obj):\n",
    "        loss_obj.dh = loss_obj.grad()\n",
    "        self.sequence.append(loss_obj)\n",
    "        \n",
    "        # back-prop loop\n",
    "        for i in range(len(self.sequence) - 1, 0, -1):\n",
    "            l1 = self.sequence[i]\n",
    "            l0 = self.sequence[i - 1]\n",
    "            \n",
    "            l0.dh = _m(l0.grad(), l1.dh)\n",
    "            l0.dW = l0.grad_W(l1.dh)\n",
    "            l0.db = l0.grad_b(l1.dh)\n",
    "        \n",
    "        self.sequence.remove(loss_obj)"
   ]
  },
  {
   "cell_type": "markdown",
   "metadata": {},
   "source": [
    "## 경사하강 학습법"
   ]
  },
  {
   "cell_type": "code",
   "execution_count": 8,
   "metadata": {},
   "outputs": [],
   "source": [
    "def gradient_descent(network, x, y, loss_obj, alpha=0.01):\n",
    "    loss = loss_obj(network(x), y)  # Forward inference\n",
    "    network.calc_gradient(loss_obj)  # Back-propagation\n",
    "    for layer in network.sequence:\n",
    "        layer.W += -alpha * layer.dW\n",
    "        layer.b += -alpha * layer.db\n",
    "    return loss"
   ]
  },
  {
   "cell_type": "markdown",
   "metadata": {},
   "source": [
    "## 동작 테스트"
   ]
  },
  {
   "cell_type": "code",
   "execution_count": 9,
   "metadata": {},
   "outputs": [
    {
     "name": "stdout",
     "output_type": "stream",
     "text": [
      "Epoch 0: Test loss 0.4393245083203132\n",
      "Epoch 1: Test loss 0.4343858519818169\n",
      "Epoch 2: Test loss 0.429504259966008\n",
      "Epoch 3: Test loss 0.42468107188610116\n",
      "Epoch 4: Test loss 0.41991750380235754\n",
      "Epoch 5: Test loss 0.4152146495489317\n",
      "Epoch 6: Test loss 0.41057348254694503\n",
      "Epoch 7: Test loss 0.4059948580645343\n",
      "Epoch 8: Test loss 0.4014795158831697\n",
      "Epoch 9: Test loss 0.3970280833286653\n",
      "Epoch 10: Test loss 0.39264107862499037\n",
      "Epoch 11: Test loss 0.38831891452918665\n",
      "Epoch 12: Test loss 0.3840619022063494\n",
      "Epoch 13: Test loss 0.3798702553046964\n",
      "Epoch 14: Test loss 0.3757440941921667\n",
      "Epoch 15: Test loss 0.3716834503177101\n",
      "Epoch 16: Test loss 0.367688270662394\n",
      "Epoch 17: Test loss 0.36375842224761257\n",
      "Epoch 18: Test loss 0.3598936966699866\n",
      "Epoch 19: Test loss 0.3560938146349479\n",
      "Epoch 20: Test loss 0.3523584304634534\n",
      "Epoch 21: Test loss 0.3486871365487591\n",
      "Epoch 22: Test loss 0.34507946774263265\n",
      "Epoch 23: Test loss 0.3415349056528082\n",
      "Epoch 24: Test loss 0.33805288283581947\n",
      "Epoch 25: Test loss 0.3346327868716046\n",
      "Epoch 26: Test loss 0.3312739643084185\n",
      "Epoch 27: Test loss 0.3279757244686039\n",
      "Epoch 28: Test loss 0.32473734310766944\n",
      "Epoch 29: Test loss 0.3215580659208712\n",
      "Epoch 30: Test loss 0.31843711189310653\n",
      "Epoch 31: Test loss 0.31537367648940207\n",
      "Epoch 32: Test loss 0.3123669346846024\n",
      "Epoch 33: Test loss 0.309416043832063\n",
      "Epoch 34: Test loss 0.3065201463722028\n",
      "Epoch 35: Test loss 0.3036783723827079\n",
      "Epoch 36: Test loss 0.3008898419729812\n",
      "Epoch 37: Test loss 0.2981536675261309\n",
      "Epoch 38: Test loss 0.2954689557923741\n",
      "Epoch 39: Test loss 0.29283480983822313\n",
      "Epoch 40: Test loss 0.2902503308562175\n",
      "Epoch 41: Test loss 0.2877146198402782\n",
      "Epoch 42: Test loss 0.2852267791320011\n",
      "Epoch 43: Test loss 0.2827859138433747\n",
      "Epoch 44: Test loss 0.2803911331615214\n",
      "Epoch 45: Test loss 0.2780415515411141\n",
      "Epoch 46: Test loss 0.2757362897901331\n",
      "Epoch 47: Test loss 0.2734744760545965\n",
      "Epoch 48: Test loss 0.27125524670782913\n",
      "Epoch 49: Test loss 0.2690777471497416\n",
      "Epoch 50: Test loss 0.26694113252146695\n",
      "Epoch 51: Test loss 0.2648445683405628\n",
      "Epoch 52: Test loss 0.2627872310618241\n",
      "Epoch 53: Test loss 0.2607683085685827\n",
      "Epoch 54: Test loss 0.2587870005991843\n",
      "Epoch 55: Test loss 0.25684251911314454\n",
      "Epoch 56: Test loss 0.25493408860129\n",
      "Epoch 57: Test loss 0.25306094634399356\n",
      "Epoch 58: Test loss 0.25122234262141085\n",
      "Epoch 59: Test loss 0.24941754087943246\n",
      "Epoch 60: Test loss 0.24764581785486353\n",
      "Epoch 61: Test loss 0.24590646366315472\n",
      "Epoch 62: Test loss 0.2441987818518176\n",
      "Epoch 63: Test loss 0.2425220894224734\n",
      "Epoch 64: Test loss 0.24087571682430725\n",
      "Epoch 65: Test loss 0.23925900792152577\n",
      "Epoch 66: Test loss 0.2376713199372531\n",
      "Epoch 67: Test loss 0.23611202337613876\n",
      "Epoch 68: Test loss 0.23458050192779972\n",
      "Epoch 69: Test loss 0.2330761523530739\n",
      "Epoch 70: Test loss 0.23159838435492497\n",
      "Epoch 71: Test loss 0.23014662043570444\n",
      "Epoch 72: Test loss 0.22872029574235603\n",
      "Epoch 73: Test loss 0.22731885790102757\n",
      "Epoch 74: Test loss 0.2259417668424454\n",
      "Epoch 75: Test loss 0.2245884946193008\n",
      "Epoch 76: Test loss 0.22325852521680123\n",
      "Epoch 77: Test loss 0.22195135435744584\n",
      "Epoch 78: Test loss 0.22066648930099672\n",
      "Epoch 79: Test loss 0.2194034486405395\n",
      "Epoch 80: Test loss 0.21816176209544744\n",
      "Epoch 81: Test loss 0.21694097030199483\n",
      "Epoch 82: Test loss 0.21574062460229881\n",
      "Epoch 83: Test loss 0.2145602868322066\n",
      "Epoch 84: Test loss 0.21339952910868829\n",
      "Epoch 85: Test loss 0.21225793361724285\n",
      "Epoch 86: Test loss 0.21113509239977446\n",
      "Epoch 87: Test loss 0.21003060714335214\n",
      "Epoch 88: Test loss 0.20894408897022093\n",
      "Epoch 89: Test loss 0.20787515822939728\n",
      "Epoch 90: Test loss 0.20682344429014093\n",
      "Epoch 91: Test loss 0.20578858533756683\n",
      "Epoch 92: Test loss 0.20477022817062535\n",
      "Epoch 93: Test loss 0.20376802800265492\n",
      "Epoch 94: Test loss 0.20278164826468237\n",
      "Epoch 95: Test loss 0.2018107604116237\n",
      "Epoch 96: Test loss 0.20085504373151625\n",
      "Epoch 97: Test loss 0.19991418515789267\n",
      "Epoch 98: Test loss 0.19898787908538942\n",
      "Epoch 99: Test loss 0.1980758271886654\n",
      "0.11117720603942871 seconds elapsed.\n"
     ]
    }
   ],
   "source": [
    "x = np.random.normal(0.0, 1.0, (10,))\n",
    "y = np.random.normal(0.0, 1.0, (2,))\n",
    "\n",
    "t = time.time()\n",
    "dnn = DNN(hidden_depth=5, num_neuron=32, input=10, output=2, activation=Sigmoid)\n",
    "loss_obj = MeanSquaredError()\n",
    "for epoch in range(100):\n",
    "    loss = gradient_descent(dnn, x, y, loss_obj, alpha=0.01)\n",
    "    print('Epoch {}: Test loss {}'.format(epoch, loss))\n",
    "print('{} seconds elapsed.'.format(time.time() - t))"
   ]
  }
 ],
 "metadata": {
  "kernelspec": {
   "display_name": "Python 3",
   "language": "python",
   "name": "python3"
  },
  "language_info": {
   "codemirror_mode": {
    "name": "ipython",
    "version": 3
   },
   "file_extension": ".py",
   "mimetype": "text/x-python",
   "name": "python",
   "nbconvert_exporter": "python",
   "pygments_lexer": "ipython3",
   "version": "3.8.3"
  }
 },
 "nbformat": 4,
 "nbformat_minor": 4
}
