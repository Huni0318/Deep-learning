{
 "cells": [
  {
   "cell_type": "markdown",
   "metadata": {},
   "source": [
    "## 역전파 학습법을 이용한 심층 신경망 학습"
   ]
  },
  {
   "cell_type": "code",
   "execution_count": 1,
   "metadata": {},
   "outputs": [],
   "source": [
    "import time\n",
    "import numpy as np"
   ]
  },
  {
   "cell_type": "markdown",
   "metadata": {},
   "source": [
    "## 유틸리티 함수"
   ]
  },
  {
   "cell_type": "code",
   "execution_count": 2,
   "metadata": {},
   "outputs": [],
   "source": [
    "def _t(x):\n",
    "    return np.transpose(x)\n",
    "\n",
    "def _m(A, B):\n",
    "    return np.matmul(A, B)"
   ]
  },
  {
   "cell_type": "markdown",
   "metadata": {},
   "source": [
    "## Sigmoid 구현"
   ]
  },
  {
   "cell_type": "code",
   "execution_count": 3,
   "metadata": {},
   "outputs": [],
   "source": [
    "class Sigmoid: \n",
    "    def __init__(self):\n",
    "        self.last_o = 1\n",
    "\n",
    "    def __call__(self, x):\n",
    "        self.last_o = 1 / (1.0 + np.exp(-x))\n",
    "        return self.last_o\n",
    "\n",
    "    def grad(self): # sigmoid(x)(1-sigmoid(x))\n",
    "        return self.last_o * (1 - self.last_o)"
   ]
  },
  {
   "cell_type": "markdown",
   "metadata": {},
   "source": [
    "## Mean Squared Error 구현"
   ]
  },
  {
   "cell_type": "code",
   "execution_count": 4,
   "metadata": {},
   "outputs": [],
   "source": [
    "class MeanSquaredError:\n",
    "    def __init__(self):\n",
    "        # gradient\n",
    "        self.dh = 1\n",
    "        self.last_diff = 1        \n",
    "\n",
    "    def __call__(self, h, y): # 1/2 * mean ((h - y)^2)\n",
    "        self.last_diff = h - y\n",
    "        return 1 / 2 * np.mean(np.square(h - y))\n",
    "\n",
    "    def grad(self): # h - y\n",
    "        return self.last_diff"
   ]
  },
  {
   "cell_type": "markdown",
   "metadata": {},
   "source": [
    "## 뉴런 구현"
   ]
  },
  {
   "cell_type": "code",
   "execution_count": 5,
   "metadata": {},
   "outputs": [],
   "source": [
    "class Neuron:\n",
    "    def __init__(self, W, b, a_obj):\n",
    "        # Model parameters\n",
    "        self.W = W\n",
    "        self.b = b\n",
    "        self.a = a_obj()\n",
    "        \n",
    "        # gradient\n",
    "        self.dW = np.zeros_like(self.W)\n",
    "        self.db = np.zeros_like(self.b)\n",
    "        self.dh = np.zeros_like(_t(self.W))\n",
    "        \n",
    "        self.last_x = np.zeros((self.W.shape[0]))\n",
    "        self.last_h = np.zeros((self.W.shape[1]))\n",
    "\n",
    "    def __call__(self, x):\n",
    "        self.last_x = x\n",
    "        self.last_h = _m(_t(self.W), x) + self.b\n",
    "        return self.a(self.last_h)\n",
    "\n",
    "    def grad(self): # dy/dh = W\n",
    "        return self.W * self.a.grad()\n",
    "\n",
    "    def grad_W(self, dh):\n",
    "        grad = np.ones_like(self.W)\n",
    "        grad_a = self.a.grad()\n",
    "        for j in range(grad.shape[1]): # dy/dw = x\n",
    "            grad[:, j] = dh[j] * grad_a[j] * self.last_x\n",
    "        return grad\n",
    "\n",
    "    def grad_b(self, dh): # dy/dh = 1\n",
    "        return dh * self.a.grad()"
   ]
  },
  {
   "cell_type": "markdown",
   "metadata": {},
   "source": [
    "## 심층신경망 구현"
   ]
  },
  {
   "cell_type": "code",
   "execution_count": 6,
   "metadata": {},
   "outputs": [],
   "source": [
    "class DNN:\n",
    "    def __init__(self, hidden_depth, num_neuron, input, output, activation=Sigmoid):\n",
    "        def init_var(i, o):\n",
    "            return np.random.normal(0.0, 0.01, (i, o)), np.zeros((o,))\n",
    "\n",
    "        self.sequence = list()\n",
    "        # First hidden layer\n",
    "        W, b = init_var(input, num_neuron)\n",
    "        self.sequence.append(Neuron(W, b, activation))\n",
    "\n",
    "        # Hidden Layers\n",
    "        for index in range(hidden_depth):\n",
    "            W, b = init_var(num_neuron, num_neuron)\n",
    "            self.sequence.append(Neuron(W, b, activation))\n",
    "\n",
    "        # Output Layer\n",
    "        W, b = init_var(num_neuron, output)\n",
    "        self.sequence.append(Neuron(W, b, activation))\n",
    "\n",
    "    def __call__(self, x):\n",
    "        for layer in self.sequence:\n",
    "            x = layer(x)\n",
    "        return x\n",
    "\n",
    "    def calc_gradient(self, loss_obj):\n",
    "        loss_obj.dh = loss_obj.grad()\n",
    "        self.sequence.append(loss_obj)\n",
    "        \n",
    "        # back-prop loop\n",
    "        for i in range(len(self.sequence) - 1, 0, -1):\n",
    "            l1 = self.sequence[i]\n",
    "            l0 = self.sequence[i - 1]\n",
    "            \n",
    "            l0.dh = _m(l0.grad(), l1.dh)\n",
    "            l0.dW = l0.grad_W(l1.dh)\n",
    "            l0.db = l0.grad_b(l1.dh)\n",
    "        \n",
    "        self.sequence.remove(loss_obj)"
   ]
  },
  {
   "cell_type": "markdown",
   "metadata": {},
   "source": [
    "## 경사하강 학습법"
   ]
  },
  {
   "cell_type": "code",
   "execution_count": 7,
   "metadata": {},
   "outputs": [],
   "source": [
    "def gradient_descent(network, x, y, loss_obj, alpha=0.01):\n",
    "    loss = loss_obj(network(x), y)  # Forward inference\n",
    "    network.calc_gradient(loss_obj)  # Back-propagation\n",
    "    for layer in network.sequence:\n",
    "        layer.W += -alpha * layer.dW\n",
    "        layer.b += -alpha * layer.db\n",
    "    return loss"
   ]
  },
  {
   "cell_type": "markdown",
   "metadata": {},
   "source": [
    "## 동작 테스트"
   ]
  },
  {
   "cell_type": "code",
   "execution_count": 8,
   "metadata": {},
   "outputs": [
    {
     "name": "stdout",
     "output_type": "stream",
     "text": [
      "Epoch 0: Test loss 0.34339444065556646\n",
      "Epoch 1: Test loss 0.33953614729203974\n",
      "Epoch 2: Test loss 0.3357245203167315\n",
      "Epoch 3: Test loss 0.331961207024193\n",
      "Epoch 4: Test loss 0.3282477068240075\n",
      "Epoch 5: Test loss 0.3245853713709855\n",
      "Epoch 6: Test loss 0.3209754056359744\n",
      "Epoch 7: Test loss 0.3174188698488907\n",
      "Epoch 8: Test loss 0.31391668223934965\n",
      "Epoch 9: Test loss 0.3104696224958019\n",
      "Epoch 10: Test loss 0.307078335861324\n",
      "Epoch 11: Test loss 0.3037433377830451\n",
      "Epoch 12: Test loss 0.3004650190324717\n",
      "Epoch 13: Test loss 0.2972436512155523\n",
      "Epoch 14: Test loss 0.2940793925940195\n",
      "Epoch 15: Test loss 0.29097229414318515\n",
      "Epoch 16: Test loss 0.2879223057757587\n",
      "Epoch 17: Test loss 0.2849292826662451\n",
      "Epoch 18: Test loss 0.28199299161587227\n",
      "Epoch 19: Test loss 0.27911311740367284\n",
      "Epoch 20: Test loss 0.27628926907513346\n",
      "Epoch 21: Test loss 0.27352098612562564\n",
      "Epoch 22: Test loss 0.2708077445415384\n",
      "Epoch 23: Test loss 0.2681489626675457\n",
      "Epoch 24: Test loss 0.26554400687370716\n",
      "Epoch 25: Test loss 0.26299219700105253\n",
      "Epoch 26: Test loss 0.26049281156890297\n",
      "Epoch 27: Test loss 0.2580450927314151\n",
      "Epoch 28: Test loss 0.25564825097466987\n",
      "Epoch 29: Test loss 0.2533014695490747\n",
      "Epoch 30: Test loss 0.2510039086349033\n",
      "Epoch 31: Test loss 0.248754709241469\n",
      "Epoch 32: Test loss 0.24655299684274057\n",
      "Epoch 33: Test loss 0.24439788475417523\n",
      "Epoch 34: Test loss 0.24228847725718813\n",
      "Epoch 35: Test loss 0.24022387247902816\n",
      "Epoch 36: Test loss 0.23820316503690878\n",
      "Epoch 37: Test loss 0.23622544845607843\n",
      "Epoch 38: Test loss 0.23428981737213256\n",
      "Epoch 39: Test loss 0.23239536952829404\n",
      "Epoch 40: Test loss 0.230541207578646\n",
      "Epoch 41: Test loss 0.22872644070841103\n",
      "Epoch 42: Test loss 0.2269501860823572\n",
      "Epoch 43: Test loss 0.2252115701322914\n",
      "Epoch 44: Test loss 0.22350972969439453\n",
      "Epoch 45: Test loss 0.22184381300687442\n",
      "Epoch 46: Test loss 0.22021298057807687\n",
      "Epoch 47: Test loss 0.21861640593481735\n",
      "Epoch 48: Test loss 0.21705327626027945\n",
      "Epoch 49: Test loss 0.21552279293039547\n",
      "Epoch 50: Test loss 0.21402417195716703\n",
      "Epoch 51: Test loss 0.21255664434693022\n",
      "Epoch 52: Test loss 0.21111945638110444\n",
      "Epoch 53: Test loss 0.20971186982650938\n",
      "Epoch 54: Test loss 0.20833316208188196\n",
      "Epoch 55: Test loss 0.20698262626678746\n",
      "Epoch 56: Test loss 0.20565957125869086\n",
      "Epoch 57: Test loss 0.2043633216835446\n",
      "Epoch 58: Test loss 0.20309321786485565\n",
      "Epoch 59: Test loss 0.20184861573581708\n",
      "Epoch 60: Test loss 0.20062888671873416\n",
      "Epoch 61: Test loss 0.19943341757563546\n",
      "Epoch 62: Test loss 0.19826161023364094\n",
      "Epoch 63: Test loss 0.19711288158836088\n",
      "Epoch 64: Test loss 0.19598666328831382\n",
      "Epoch 65: Test loss 0.19488240150309524\n",
      "Epoch 66: Test loss 0.19379955667777693\n",
      "Epoch 67: Test loss 0.1927376032757952\n",
      "Epoch 68: Test loss 0.19169602951236797\n",
      "Epoch 69: Test loss 0.19067433708029152\n",
      "Epoch 70: Test loss 0.18967204086977957\n",
      "Epoch 71: Test loss 0.18868866868384526\n",
      "Epoch 72: Test loss 0.18772376095056997\n",
      "Epoch 73: Test loss 0.18677687043346128\n",
      "Epoch 74: Test loss 0.18584756194097315\n",
      "Epoch 75: Test loss 0.18493541203614208\n",
      "Epoch 76: Test loss 0.1840400087471829\n",
      "Epoch 77: Test loss 0.18316095127979012\n",
      "Epoch 78: Test loss 0.18229784973179822\n",
      "Epoch 79: Test loss 0.18145032481077228\n",
      "Epoch 80: Test loss 0.18061800755502644\n",
      "Epoch 81: Test loss 0.17980053905849672\n",
      "Epoch 82: Test loss 0.17899757019983564\n",
      "Epoch 83: Test loss 0.17820876137603953\n",
      "Epoch 84: Test loss 0.17743378224086734\n",
      "Epoch 85: Test loss 0.1766723114482677\n",
      "Epoch 86: Test loss 0.17592403640098614\n",
      "Epoch 87: Test loss 0.17518865300449152\n",
      "Epoch 88: Test loss 0.1744658654263251\n",
      "Epoch 89: Test loss 0.17375538586094816\n",
      "Epoch 90: Test loss 0.17305693430013652\n",
      "Epoch 91: Test loss 0.1723702383089494\n",
      "Epoch 92: Test loss 0.1716950328072759\n",
      "Epoch 93: Test loss 0.17103105985694872\n",
      "Epoch 94: Test loss 0.1703780684543946\n",
      "Epoch 95: Test loss 0.1697358143287804\n",
      "Epoch 96: Test loss 0.169104059745599\n",
      "Epoch 97: Test loss 0.16848257331563082\n",
      "Epoch 98: Test loss 0.16787112980920554\n",
      "Epoch 99: Test loss 0.16726950997568327\n",
      "0.0916910171508789 seconds elapsed.\n"
     ]
    }
   ],
   "source": [
    "x = np.random.normal(0.0, 1.0, (10,))\n",
    "y = np.random.normal(0.0, 1.0, (2,))\n",
    "\n",
    "t = time.time()\n",
    "dnn = DNN(hidden_depth=5, num_neuron=32, input=10, output=2, activation=Sigmoid)\n",
    "loss_obj = MeanSquaredError()\n",
    "for epoch in range(100):\n",
    "    loss = gradient_descent(dnn, x, y, loss_obj, alpha=0.01)\n",
    "    print('Epoch {}: Test loss {}'.format(epoch, loss))\n",
    "print('{} seconds elapsed.'.format(time.time() - t))"
   ]
  }
 ],
 "metadata": {
  "kernelspec": {
   "display_name": "Python 3",
   "language": "python",
   "name": "python3"
  },
  "language_info": {
   "codemirror_mode": {
    "name": "ipython",
    "version": 3
   },
   "file_extension": ".py",
   "mimetype": "text/x-python",
   "name": "python",
   "nbconvert_exporter": "python",
   "pygments_lexer": "ipython3",
   "version": "3.8.3"
  }
 },
 "nbformat": 4,
 "nbformat_minor": 4
}
