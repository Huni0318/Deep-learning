{
 "cells": [
  {
   "cell_type": "markdown",
   "metadata": {},
   "source": [
    "## 수치 미분을 이용한 심층 신경망 학습"
   ]
  },
  {
   "cell_type": "code",
   "execution_count": 15,
   "metadata": {},
   "outputs": [],
   "source": [
    "import time\n",
    "import numpy as np"
   ]
  },
  {
   "cell_type": "markdown",
   "metadata": {},
   "source": [
    "## 유틸리티 함수"
   ]
  },
  {
   "cell_type": "code",
   "execution_count": 16,
   "metadata": {},
   "outputs": [],
   "source": [
    "epsilon = 0.0001\n",
    "\n",
    "def _t(x):\n",
    "    return np.transpose(x)\n",
    "\n",
    "def _m(A, B):\n",
    "    return np.matmul(A,B)\n",
    "\n",
    "def sigmoid(x):\n",
    "    return 1/ (1+ np.exp(-x))\n",
    "\n",
    "def mean_squared_error(h, y):\n",
    "    return 1/2*np.mean(np.square(h-y))"
   ]
  },
  {
   "cell_type": "markdown",
   "metadata": {},
   "source": [
    "## 뉴런 구현"
   ]
  },
  {
   "cell_type": "code",
   "execution_count": 17,
   "metadata": {},
   "outputs": [],
   "source": [
    "class Neuron:\n",
    "    def __init__(self, W, b, a):\n",
    "        # Model Parameter\n",
    "        self.W = W\n",
    "        self.b = b\n",
    "        self.a = a\n",
    "        \n",
    "        # Gradients\n",
    "        self.dW = np.zeros_like(self.W)\n",
    "        self.db = np.zeros_like(self.b)\n",
    "\n",
    "    def __call__(self, x):\n",
    "        return self.a(_m(_t(self.W), x) + self.b) # activation((W^T)x + b)"
   ]
  },
  {
   "cell_type": "markdown",
   "metadata": {},
   "source": [
    "## 심층신경망 구현"
   ]
  },
  {
   "cell_type": "code",
   "execution_count": 18,
   "metadata": {},
   "outputs": [],
   "source": [
    "class DNN:\n",
    "    def __init__(self, hidden_depth, num_neuron, num_input, num_output, activation=sigmoid):\n",
    "        def init_var(i, o):\n",
    "            return np.random.normal(0.0, 0.01, (i, o)), np.zeros((o,))\n",
    "\n",
    "        self.sequence = list()\n",
    "        # First hidden layer\n",
    "        W, b = init_var(num_input, num_neuron)\n",
    "        self.sequence.append(Neuron(W, b, activation))\n",
    "        \n",
    "        # Hidden layers\n",
    "        for _ in range(hidden_depth - 1):\n",
    "            W, b = init_var(num_neuron, num_neuron)\n",
    "            self.sequence.append(Neuron(W, b, activation))\n",
    "\n",
    "        # Output layer\n",
    "        W, b = init_var(num_neuron, num_output)\n",
    "        self.sequence.append(Neuron(W, b, activation))\n",
    "\n",
    "    def __call__(self, x):\n",
    "        for layer in self.sequence:\n",
    "            x = layer(x)\n",
    "        return x\n",
    "\n",
    "    def calc_gradient(self, x, y, loss_func):\n",
    "        def get_new_sequence(layer_index, new_neuron):\n",
    "            new_sequence = list()\n",
    "            for i, layer in enumerate(self.sequence):\n",
    "                if i == layer_index:\n",
    "                    new_sequence.append(new_neuron)\n",
    "                else:\n",
    "                    new_sequence.append(layer)\n",
    "            return new_sequence\n",
    "        \n",
    "        def eval_sequence(x, sequence):\n",
    "            for layer in sequence:\n",
    "                x = layer(x)\n",
    "            return x\n",
    "        \n",
    "        loss = loss_func(self(x), y)\n",
    "        \n",
    "        for layer_id, layer in enumerate(self.sequence): # iterate layer\n",
    "            for w_i, w in enumerate(layer.W): # iterate W (row)\n",
    "                for w_j, ww in enumerate(w): # iterate W (col)\n",
    "                    W = np.copy(layer.W)\n",
    "                    W[w_i][w_j] = ww + epsilon\n",
    "                    \n",
    "                    new_neuron = Neuron(W, layer.b, layer.a)\n",
    "                    new_seq = get_new_sequence(layer_id, new_neuron)\n",
    "                    h = eval_sequence(x, new_seq)\n",
    "                    \n",
    "                    num_grad = (loss_func(h, y) - loss) / epsilon  # (f(x+eps) - f(x)) / epsilon\n",
    "                    layer.dW[w_i][w_j] = num_grad\n",
    "            \n",
    "                for b_i, bb in enumerate(layer.b): # iterate b\n",
    "                    b = np.copy(layer.b)\n",
    "                    b[b_i] = bb + epsilon\n",
    "                    \n",
    "                    new_neuron = Neuron(layer.W, b, layer.a)\n",
    "                    new_seq = get_new_sequence(layer_id, new_neuron)\n",
    "                    h = eval_sequence(x, new_seq)\n",
    "                    \n",
    "                    num_grad = (loss_func(h, y) - loss) / epsilon  # (f(x+eps) - f(x)) / epsilon\n",
    "                    layer.db[b_i] = num_grad\n",
    "        return loss"
   ]
  },
  {
   "cell_type": "markdown",
   "metadata": {},
   "source": [
    "## 경사하강 학습법"
   ]
  },
  {
   "cell_type": "code",
   "execution_count": 19,
   "metadata": {},
   "outputs": [],
   "source": [
    "def gradient_descent(network, x, y, loss_obj, alpha=0.01):\n",
    "    loss = network.calc_gradient(x, y, loss_obj)\n",
    "    for layer in network.sequence:\n",
    "        layer.W += -alpha * layer.dW\n",
    "        layer.b += -alpha * layer.db\n",
    "    return loss"
   ]
  },
  {
   "cell_type": "markdown",
   "metadata": {},
   "source": [
    "## 동작 테스트"
   ]
  },
  {
   "cell_type": "code",
   "execution_count": 20,
   "metadata": {
    "scrolled": true
   },
   "outputs": [
    {
     "name": "stdout",
     "output_type": "stream",
     "text": [
      "Epoch 0: Test loss 1.092578381456484\n",
      "Epoch 1: Test loss 1.0864963105993493\n",
      "Epoch 2: Test loss 1.08044674675759\n",
      "Epoch 3: Test loss 1.074432688293065\n",
      "Epoch 4: Test loss 1.068457033681426\n",
      "Epoch 5: Test loss 1.062522574827712\n",
      "Epoch 6: Test loss 1.0566319910744983\n",
      "Epoch 7: Test loss 1.0507878439192773\n",
      "Epoch 8: Test loss 1.0449925724583216\n",
      "Epoch 9: Test loss 1.039248489560043\n",
      "Epoch 10: Test loss 1.0335577787690344\n",
      "Epoch 11: Test loss 1.0279224919295058\n",
      "Epoch 12: Test loss 1.0223445475146586\n",
      "Epoch 13: Test loss 1.0168257296413095\n",
      "Epoch 14: Test loss 1.0113676877419746\n",
      "Epoch 15: Test loss 1.0059719368652036\n",
      "Epoch 16: Test loss 1.0006398585677483\n",
      "Epoch 17: Test loss 0.9953727023620825\n",
      "Epoch 18: Test loss 0.9901715876766434\n",
      "Epoch 19: Test loss 0.9850375062868861\n",
      "Epoch 20: Test loss 0.9799713251738348\n",
      "Epoch 21: Test loss 0.974973789764687\n",
      "Epoch 22: Test loss 0.9700455275106841\n",
      "Epoch 23: Test loss 0.9651870517586238\n",
      "Epoch 24: Test loss 0.9603987658717896\n",
      "Epoch 25: Test loss 0.9556809675589152\n",
      "Epoch 26: Test loss 0.951033853370286\n",
      "Epoch 27: Test loss 0.9464575233226109\n",
      "Epoch 28: Test loss 0.9419519856157714\n",
      "Epoch 29: Test loss 0.9375171614084781\n",
      "Epoch 30: Test loss 0.9331528896201514\n",
      "Epoch 31: Test loss 0.9288589317304289\n",
      "Epoch 32: Test loss 0.9246349765502069\n",
      "Epoch 33: Test loss 0.9204806449399998\n",
      "Epoch 34: Test loss 0.9163954944542112\n",
      "Epoch 35: Test loss 0.9123790238933015\n",
      "Epoch 36: Test loss 0.9084306777465839\n",
      "Epoch 37: Test loss 0.9045498505124914\n",
      "Epoch 38: Test loss 0.9007358908840584\n",
      "Epoch 39: Test loss 0.8969881057900693\n",
      "Epoch 40: Test loss 0.8933057642839871\n",
      "Epoch 41: Test loss 0.8896881012749092\n",
      "Epoch 42: Test loss 0.8861343210959179\n",
      "Epoch 43: Test loss 0.8826436009074321\n",
      "Epoch 44: Test loss 0.8792150939334565\n",
      "Epoch 45: Test loss 0.8758479325310867\n",
      "Epoch 46: Test loss 0.87254123109368\n",
      "Epoch 47: Test loss 0.8692940887897168\n",
      "Epoch 48: Test loss 0.8661055921397373\n",
      "Epoch 49: Test loss 0.8629748174348773\n",
      "Epoch 50: Test loss 0.8599008330004829\n",
      "Epoch 51: Test loss 0.8568827013097952\n",
      "Epoch 52: Test loss 0.8539194809519725\n",
      "Epoch 53: Test loss 0.8510102284599989\n",
      "Epoch 54: Test loss 0.8481540000034381\n",
      "Epoch 55: Test loss 0.8453498529519814\n",
      "Epoch 56: Test loss 0.8425968473151771\n",
      "Epoch 57: Test loss 0.839894047064349\n",
      "Epoch 58: Test loss 0.8372405213421771\n",
      "Epoch 59: Test loss 0.834635345565789\n",
      "Epoch 60: Test loss 0.8320776024291026\n",
      "Epoch 61: Test loss 0.8295663828100872\n",
      "Epoch 62: Test loss 0.8271007865879707\n",
      "Epoch 63: Test loss 0.824679923376377\n",
      "Epoch 64: Test loss 0.8223029131769035\n",
      "Epoch 65: Test loss 0.8199688869585228\n",
      "Epoch 66: Test loss 0.8176769871677593\n",
      "Epoch 67: Test loss 0.8154263681738257\n",
      "Epoch 68: Test loss 0.8132161966535262\n",
      "Epoch 69: Test loss 0.8110456519200671\n",
      "Epoch 70: Test loss 0.8089139261997502\n",
      "Epoch 71: Test loss 0.8068202248605272\n",
      "Epoch 72: Test loss 0.8047637665959892\n",
      "Epoch 73: Test loss 0.8027437835682208\n",
      "Epoch 74: Test loss 0.8007595215128523\n",
      "Epoch 75: Test loss 0.7988102398094743\n",
      "Epoch 76: Test loss 0.7968952115200383\n",
      "Epoch 77: Test loss 0.7950137233983454\n",
      "Epoch 78: Test loss 0.7931650758729193\n",
      "Epoch 79: Test loss 0.7913485830057502\n",
      "Epoch 80: Test loss 0.7895635724291693\n",
      "Epoch 81: Test loss 0.7878093852629868\n",
      "Epoch 82: Test loss 0.7860853760137794\n",
      "Epoch 83: Test loss 0.7843909124581601\n",
      "Epoch 84: Test loss 0.7827253755118285\n",
      "Epoch 85: Test loss 0.7810881590858255\n",
      "Epoch 86: Test loss 0.7794786699316104\n",
      "Epoch 87: Test loss 0.7778963274761769\n",
      "Epoch 88: Test loss 0.7763405636486039\n",
      "Epoch 89: Test loss 0.774810822698985\n",
      "Epoch 90: Test loss 0.7733065610111187\n",
      "Epoch 91: Test loss 0.7718272469095999\n",
      "Epoch 92: Test loss 0.770372360462464\n",
      "Epoch 93: Test loss 0.768941393280086\n",
      "Epoch 94: Test loss 0.7675338483111774\n",
      "Epoch 95: Test loss 0.7661492396364917\n",
      "Epoch 96: Test loss 0.7647870922609254\n",
      "Epoch 97: Test loss 0.7634469419045965\n",
      "Epoch 98: Test loss 0.7621283347933298\n",
      "Epoch 99: Test loss 0.7608308274492436\n",
      "60.46268105506897 seconds elapsed.\n"
     ]
    }
   ],
   "source": [
    "x = np.random.normal(0.0, 1.0, (10,))\n",
    "y = np.random.normal(0.0, 1.0, (2,))\n",
    "\n",
    "dnn = DNN(hidden_depth=5, num_neuron=32, num_input=10, num_output=2, activation=sigmoid)\n",
    "\n",
    "t = time.time()\n",
    "for epoch in range(100):\n",
    "    loss = gradient_descent(dnn, x, y, mean_squared_error, 0.01)\n",
    "    print('Epoch {}: Test loss {}'.format(epoch, loss))\n",
    "print('{} seconds elapsed.'.format(time.time() - t))"
   ]
  }
 ],
 "metadata": {
  "kernelspec": {
   "display_name": "Python 3",
   "language": "python",
   "name": "python3"
  },
  "language_info": {
   "codemirror_mode": {
    "name": "ipython",
    "version": 3
   },
   "file_extension": ".py",
   "mimetype": "text/x-python",
   "name": "python",
   "nbconvert_exporter": "python",
   "pygments_lexer": "ipython3",
   "version": "3.8.3"
  }
 },
 "nbformat": 4,
 "nbformat_minor": 4
}
