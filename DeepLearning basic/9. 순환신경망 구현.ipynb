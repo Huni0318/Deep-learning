{
 "cells": [
  {
   "cell_type": "markdown",
   "metadata": {},
   "source": [
    "## 순환신경망 구현 및 학습"
   ]
  },
  {
   "cell_type": "code",
   "execution_count": 2,
   "metadata": {},
   "outputs": [],
   "source": [
    "import tensorflow as tf"
   ]
  },
  {
   "cell_type": "markdown",
   "metadata": {},
   "source": [
    "## 하이퍼 파라미터"
   ]
  },
  {
   "cell_type": "code",
   "execution_count": 3,
   "metadata": {},
   "outputs": [],
   "source": [
    "EPOCHS =10\n",
    "NUM_WORDS = 10000"
   ]
  },
  {
   "cell_type": "markdown",
   "metadata": {},
   "source": [
    "## 모델 정의"
   ]
  },
  {
   "cell_type": "code",
   "execution_count": 16,
   "metadata": {},
   "outputs": [],
   "source": [
    "class MyModel(tf.keras.Model):\n",
    "    def __init__(self):\n",
    "        super(MyModel, self).__init__()\n",
    "        self.emb = tf.keras.layers.Embedding(NUM_WORDS, 16)\n",
    "        self.rnn = tf.keras.layers.SimpleRNN(32) #LSTM으로 바꿀수 있다.\n",
    "        self.dense = tf.keras.layers.Dense(2, activation = 'softmax')\n",
    "        \n",
    "    def call(self, x, training = None, mask = None):\n",
    "        x = self.emb(x)\n",
    "        x = self.rnn(x)\n",
    "        return self.dense(x)"
   ]
  },
  {
   "cell_type": "markdown",
   "metadata": {},
   "source": [
    "## 학습, 테스트 루프 정의"
   ]
  },
  {
   "cell_type": "code",
   "execution_count": 17,
   "metadata": {},
   "outputs": [],
   "source": [
    "# Implement training loop\n",
    "@tf.function\n",
    "def train_step(model, inputs, labels, loss_object, optimizer, train_loss, train_accuracy):\n",
    "    with tf.GradientTape() as tape:\n",
    "        predictions = model(inputs, training=True)\n",
    "        loss = loss_object(labels, predictions)\n",
    "    gradients = tape.gradient(loss, model.trainable_variables)\n",
    "\n",
    "    optimizer.apply_gradients(zip(gradients, model.trainable_variables))\n",
    "    train_loss(loss)\n",
    "    train_accuracy(labels, predictions)\n",
    "\n",
    "# Implement algorithm test\n",
    "@tf.function\n",
    "def test_step(model, images, labels, loss_object, test_loss, test_accuracy):\n",
    "    predictions = model(images, training=False)\n",
    "\n",
    "    t_loss = loss_object(labels, predictions)\n",
    "    test_loss(t_loss)\n",
    "    test_accuracy(labels, predictions)"
   ]
  },
  {
   "cell_type": "markdown",
   "metadata": {},
   "source": [
    "## 데이터셋 준비\n"
   ]
  },
  {
   "cell_type": "code",
   "execution_count": 18,
   "metadata": {},
   "outputs": [],
   "source": [
    "imdb = tf.keras.datasets.imdb\n",
    "(x_train, y_train),(x_test, y_test) = imdb.load_data(num_words = NUM_WORDS)\n",
    "\n",
    "x_train = tf.keras.preprocessing.sequence.pad_sequences(x_train, value = 0, padding='pre',maxlen=32)\n",
    "x_test = tf.keras.preprocessing.sequence.pad_sequences(x_test, value = 0, padding='pre',maxlen=32)\n",
    "\n",
    "train_ds = tf.data.Dataset.from_tensor_slices((x_train,y_train)).shuffle(10000).batch(32)\n",
    "test_ds = tf.data.Dataset.from_tensor_slices((x_test,y_test)).shuffle(10000).batch(32)"
   ]
  },
  {
   "cell_type": "markdown",
   "metadata": {},
   "source": [
    "## 학습 환경 정의\n",
    "### 모델 생성, 손실함수, 최적화 알고리즘, 평가지표 정의"
   ]
  },
  {
   "cell_type": "code",
   "execution_count": 19,
   "metadata": {},
   "outputs": [],
   "source": [
    "# Create model\n",
    "model = MyModel()\n",
    "\n",
    "# Define loss and optimizer\n",
    "loss_object = tf.keras.losses.SparseCategoricalCrossentropy()\n",
    "optimizer = tf.keras.optimizers.Adam()\n",
    "\n",
    "# Define performance metrics\n",
    "train_loss = tf.keras.metrics.Mean(name='train_loss')\n",
    "train_accuracy = tf.keras.metrics.SparseCategoricalAccuracy(name='train_accuracy')\n",
    "\n",
    "test_loss = tf.keras.metrics.Mean(name='test_loss')\n",
    "test_accuracy = tf.keras.metrics.SparseCategoricalAccuracy(name='test_accuracy')"
   ]
  },
  {
   "cell_type": "markdown",
   "metadata": {},
   "source": [
    "## 학습 루프 동작"
   ]
  },
  {
   "cell_type": "code",
   "execution_count": 20,
   "metadata": {
    "scrolled": false
   },
   "outputs": [
    {
     "name": "stdout",
     "output_type": "stream",
     "text": [
      "Epoch 1, Loss: 0.5600392818450928, Accuracy: 69.08399963378906, Test Loss: 0.4602614939212799, Test Accuracy: 78.06800079345703\n",
      "Epoch 2, Loss: 0.365124374628067, Accuracy: 84.00800323486328, Test Loss: 0.4827243983745575, Test Accuracy: 77.7760009765625\n",
      "Epoch 3, Loss: 0.22145937383174896, Accuracy: 91.29999542236328, Test Loss: 0.5859109163284302, Test Accuracy: 76.4280014038086\n",
      "Epoch 4, Loss: 0.09457072615623474, Accuracy: 96.7719955444336, Test Loss: 0.8016008734703064, Test Accuracy: 75.1240005493164\n",
      "Epoch 5, Loss: 0.03777633607387543, Accuracy: 98.90800476074219, Test Loss: 1.0113410949707031, Test Accuracy: 73.38400268554688\n",
      "Epoch 6, Loss: 0.02365374006330967, Accuracy: 99.2959976196289, Test Loss: 1.234387993812561, Test Accuracy: 75.14399719238281\n",
      "Epoch 7, Loss: 0.01827474683523178, Accuracy: 99.38399505615234, Test Loss: 1.3480955362319946, Test Accuracy: 75.06800079345703\n",
      "Epoch 8, Loss: 0.014020723290741444, Accuracy: 99.58799743652344, Test Loss: 1.4265681505203247, Test Accuracy: 73.53600311279297\n",
      "Epoch 9, Loss: 0.01377745158970356, Accuracy: 99.56800079345703, Test Loss: 1.578803539276123, Test Accuracy: 73.36399841308594\n",
      "Epoch 10, Loss: 0.011044676415622234, Accuracy: 99.66400146484375, Test Loss: 1.6100715398788452, Test Accuracy: 73.38800048828125\n"
     ]
    }
   ],
   "source": [
    "for epoch in range(EPOCHS):\n",
    "    for seqs, labels in train_ds:\n",
    "        train_step(model, seqs, labels, loss_object, optimizer, train_loss, train_accuracy)\n",
    "\n",
    "    for test_seqs, test_labels in test_ds:\n",
    "        test_step(model, test_seqs, test_labels, loss_object, test_loss, test_accuracy)\n",
    "\n",
    "    template = 'Epoch {}, Loss: {}, Accuracy: {}, Test Loss: {}, Test Accuracy: {}'\n",
    "    print(template.format(epoch + 1,\n",
    "                          train_loss.result(),\n",
    "                          train_accuracy.result() * 100,\n",
    "                          test_loss.result(),\n",
    "                          test_accuracy.result() * 100))\n",
    "    train_loss.reset_states()\n",
    "    train_accuracy.reset_states()\n",
    "    test_loss.reset_states()\n",
    "    test_accuracy.reset_states()"
   ]
  },
  {
   "cell_type": "markdown",
   "metadata": {},
   "source": [
    "# LSTM"
   ]
  },
  {
   "cell_type": "markdown",
   "metadata": {},
   "source": [
    "## 모델 정의"
   ]
  },
  {
   "cell_type": "code",
   "execution_count": 22,
   "metadata": {},
   "outputs": [],
   "source": [
    "class MyModel(tf.keras.Model):\n",
    "    def __init__(self):\n",
    "        super(MyModel, self).__init__()\n",
    "        self.emb = tf.keras.layers.Embedding(NUM_WORDS, 16)\n",
    "        self.rnn = tf.keras.layers.LSTM(32) #GRU, LSTM으로 바꿀수 있다.\n",
    "        self.dense = tf.keras.layers.Dense(2, activation = 'softmax')\n",
    "        \n",
    "    def call(self, x, training = None, mask = None):\n",
    "        x = self.emb(x)\n",
    "        x = self.rnn(x)\n",
    "        return self.dense(x)"
   ]
  },
  {
   "cell_type": "code",
   "execution_count": 23,
   "metadata": {},
   "outputs": [
    {
     "name": "stdout",
     "output_type": "stream",
     "text": [
      "Epoch 1, Loss: 0.01274071168154478, Accuracy: 99.58799743652344, Test Loss: 1.6350195407867432, Test Accuracy: 71.25599670410156\n",
      "Epoch 2, Loss: 0.01588459685444832, Accuracy: 99.48400115966797, Test Loss: 1.6220670938491821, Test Accuracy: 71.7959976196289\n",
      "Epoch 3, Loss: 0.00945872813463211, Accuracy: 99.6760025024414, Test Loss: 1.6899470090866089, Test Accuracy: 72.56800079345703\n",
      "Epoch 4, Loss: 0.009560158476233482, Accuracy: 99.67200469970703, Test Loss: 1.761764645576477, Test Accuracy: 72.57599639892578\n",
      "Epoch 5, Loss: 0.009215191006660461, Accuracy: 99.70399475097656, Test Loss: 1.8536592721939087, Test Accuracy: 70.43600463867188\n",
      "Epoch 6, Loss: 0.008503220975399017, Accuracy: 99.68399810791016, Test Loss: 1.799615502357483, Test Accuracy: 73.86399841308594\n",
      "Epoch 7, Loss: 0.008684532716870308, Accuracy: 99.73999786376953, Test Loss: 1.8324933052062988, Test Accuracy: 71.80400085449219\n",
      "Epoch 8, Loss: 0.009848978370428085, Accuracy: 99.62799835205078, Test Loss: 1.8405251502990723, Test Accuracy: 72.21599578857422\n",
      "Epoch 9, Loss: 0.008841289207339287, Accuracy: 99.71200561523438, Test Loss: 1.7816486358642578, Test Accuracy: 71.64400482177734\n",
      "Epoch 10, Loss: 0.00835506059229374, Accuracy: 99.68399810791016, Test Loss: 1.8916579484939575, Test Accuracy: 72.81600189208984\n"
     ]
    }
   ],
   "source": [
    "for epoch in range(EPOCHS):\n",
    "    for seqs, labels in train_ds:\n",
    "        train_step(model, seqs, labels, loss_object, optimizer, train_loss, train_accuracy)\n",
    "\n",
    "    for test_seqs, test_labels in test_ds:\n",
    "        test_step(model, test_seqs, test_labels, loss_object, test_loss, test_accuracy)\n",
    "\n",
    "    template = 'Epoch {}, Loss: {}, Accuracy: {}, Test Loss: {}, Test Accuracy: {}'\n",
    "    print(template.format(epoch + 1,\n",
    "                          train_loss.result(),\n",
    "                          train_accuracy.result() * 100,\n",
    "                          test_loss.result(),\n",
    "                          test_accuracy.result() * 100))\n",
    "    train_loss.reset_states()\n",
    "    train_accuracy.reset_states()\n",
    "    test_loss.reset_states()\n",
    "    test_accuracy.reset_states()"
   ]
  }
 ],
 "metadata": {
  "kernelspec": {
   "display_name": "Python 3",
   "language": "python",
   "name": "python3"
  },
  "language_info": {
   "codemirror_mode": {
    "name": "ipython",
    "version": 3
   },
   "file_extension": ".py",
   "mimetype": "text/x-python",
   "name": "python",
   "nbconvert_exporter": "python",
   "pygments_lexer": "ipython3",
   "version": "3.8.3"
  }
 },
 "nbformat": 4,
 "nbformat_minor": 4
}
